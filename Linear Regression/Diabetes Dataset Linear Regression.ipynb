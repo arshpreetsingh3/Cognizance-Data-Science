{
 "cells": [
  {
   "cell_type": "code",
   "execution_count": 49,
   "metadata": {},
   "outputs": [],
   "source": [
    "from sklearn import datasets\n",
    "import numpy as np\n",
    "import pandas as pd"
   ]
  },
  {
   "cell_type": "code",
   "execution_count": 51,
   "metadata": {},
   "outputs": [],
   "source": [
    "diabetes = np.loadtxt(\"0000000000002329_training_diabetes_x_y_train.csv\",delimiter=\",\")"
   ]
  },
  {
   "cell_type": "code",
   "execution_count": 53,
   "metadata": {},
   "outputs": [
    {
     "name": "stdout",
     "output_type": "stream",
     "text": [
      "<class 'numpy.ndarray'>\n"
     ]
    }
   ],
   "source": [
    "diabetes\n",
    "print(type(diabetes))"
   ]
  },
  {
   "cell_type": "code",
   "execution_count": 64,
   "metadata": {},
   "outputs": [],
   "source": [
    "Y_train = diabetes[:,10]"
   ]
  },
  {
   "cell_type": "code",
   "execution_count": 65,
   "metadata": {},
   "outputs": [],
   "source": [
    "X_train = diabetes[:,0:10]"
   ]
  },
  {
   "cell_type": "code",
   "execution_count": 68,
   "metadata": {},
   "outputs": [
    {
     "data": {
      "text/plain": [
       "(331, 10)"
      ]
     },
     "execution_count": 68,
     "metadata": {},
     "output_type": "execute_result"
    }
   ],
   "source": [
    "X_train\n",
    "X_train.shape"
   ]
  },
  {
   "cell_type": "code",
   "execution_count": 71,
   "metadata": {},
   "outputs": [
    {
     "data": {
      "text/plain": [
       "(331,)"
      ]
     },
     "execution_count": 71,
     "metadata": {},
     "output_type": "execute_result"
    }
   ],
   "source": [
    "Y_train\n",
    "Y_train.shape"
   ]
  },
  {
   "cell_type": "code",
   "execution_count": 45,
   "metadata": {},
   "outputs": [
    {
     "data": {
      "text/html": [
       "<div>\n",
       "<style scoped>\n",
       "    .dataframe tbody tr th:only-of-type {\n",
       "        vertical-align: middle;\n",
       "    }\n",
       "\n",
       "    .dataframe tbody tr th {\n",
       "        vertical-align: top;\n",
       "    }\n",
       "\n",
       "    .dataframe thead th {\n",
       "        text-align: right;\n",
       "    }\n",
       "</style>\n",
       "<table border=\"1\" class=\"dataframe\">\n",
       "  <thead>\n",
       "    <tr style=\"text-align: right;\">\n",
       "      <th></th>\n",
       "      <th># age</th>\n",
       "      <th>sex</th>\n",
       "      <th>bmi</th>\n",
       "      <th>bp</th>\n",
       "      <th>s1</th>\n",
       "      <th>s2</th>\n",
       "      <th>s3</th>\n",
       "      <th>s4</th>\n",
       "      <th>s5</th>\n",
       "      <th>s6</th>\n",
       "      <th>Y</th>\n",
       "    </tr>\n",
       "  </thead>\n",
       "  <tbody>\n",
       "    <tr>\n",
       "      <th>count</th>\n",
       "      <td>331.000000</td>\n",
       "      <td>331.000000</td>\n",
       "      <td>331.000000</td>\n",
       "      <td>331.000000</td>\n",
       "      <td>331.000000</td>\n",
       "      <td>331.000000</td>\n",
       "      <td>331.000000</td>\n",
       "      <td>331.000000</td>\n",
       "      <td>331.000000</td>\n",
       "      <td>331.000000</td>\n",
       "      <td>331.000000</td>\n",
       "    </tr>\n",
       "    <tr>\n",
       "      <th>mean</th>\n",
       "      <td>-0.000214</td>\n",
       "      <td>-0.000293</td>\n",
       "      <td>0.000053</td>\n",
       "      <td>-0.001045</td>\n",
       "      <td>-0.001423</td>\n",
       "      <td>-0.001220</td>\n",
       "      <td>0.000440</td>\n",
       "      <td>-0.001473</td>\n",
       "      <td>-0.001594</td>\n",
       "      <td>0.000099</td>\n",
       "      <td>149.722054</td>\n",
       "    </tr>\n",
       "    <tr>\n",
       "      <th>std</th>\n",
       "      <td>0.047207</td>\n",
       "      <td>0.047618</td>\n",
       "      <td>0.048627</td>\n",
       "      <td>0.047621</td>\n",
       "      <td>0.047371</td>\n",
       "      <td>0.046936</td>\n",
       "      <td>0.047303</td>\n",
       "      <td>0.046591</td>\n",
       "      <td>0.048088</td>\n",
       "      <td>0.047263</td>\n",
       "      <td>76.796907</td>\n",
       "    </tr>\n",
       "    <tr>\n",
       "      <th>min</th>\n",
       "      <td>-0.107226</td>\n",
       "      <td>-0.044642</td>\n",
       "      <td>-0.090275</td>\n",
       "      <td>-0.102071</td>\n",
       "      <td>-0.126781</td>\n",
       "      <td>-0.115613</td>\n",
       "      <td>-0.102307</td>\n",
       "      <td>-0.076395</td>\n",
       "      <td>-0.126097</td>\n",
       "      <td>-0.137767</td>\n",
       "      <td>25.000000</td>\n",
       "    </tr>\n",
       "    <tr>\n",
       "      <th>25%</th>\n",
       "      <td>-0.034575</td>\n",
       "      <td>-0.044642</td>\n",
       "      <td>-0.035307</td>\n",
       "      <td>-0.036656</td>\n",
       "      <td>-0.035968</td>\n",
       "      <td>-0.029967</td>\n",
       "      <td>-0.032356</td>\n",
       "      <td>-0.039493</td>\n",
       "      <td>-0.035817</td>\n",
       "      <td>-0.034215</td>\n",
       "      <td>84.000000</td>\n",
       "    </tr>\n",
       "    <tr>\n",
       "      <th>50%</th>\n",
       "      <td>0.005383</td>\n",
       "      <td>-0.044642</td>\n",
       "      <td>-0.008362</td>\n",
       "      <td>-0.005671</td>\n",
       "      <td>-0.004321</td>\n",
       "      <td>-0.004445</td>\n",
       "      <td>-0.006584</td>\n",
       "      <td>-0.002592</td>\n",
       "      <td>-0.005145</td>\n",
       "      <td>-0.001078</td>\n",
       "      <td>138.000000</td>\n",
       "    </tr>\n",
       "    <tr>\n",
       "      <th>75%</th>\n",
       "      <td>0.038076</td>\n",
       "      <td>0.050680</td>\n",
       "      <td>0.030979</td>\n",
       "      <td>0.032775</td>\n",
       "      <td>0.027326</td>\n",
       "      <td>0.028905</td>\n",
       "      <td>0.026550</td>\n",
       "      <td>0.034309</td>\n",
       "      <td>0.032124</td>\n",
       "      <td>0.027917</td>\n",
       "      <td>202.000000</td>\n",
       "    </tr>\n",
       "    <tr>\n",
       "      <th>max</th>\n",
       "      <td>0.110727</td>\n",
       "      <td>0.050680</td>\n",
       "      <td>0.170555</td>\n",
       "      <td>0.132044</td>\n",
       "      <td>0.153914</td>\n",
       "      <td>0.198788</td>\n",
       "      <td>0.181179</td>\n",
       "      <td>0.185234</td>\n",
       "      <td>0.133599</td>\n",
       "      <td>0.135612</td>\n",
       "      <td>346.000000</td>\n",
       "    </tr>\n",
       "  </tbody>\n",
       "</table>\n",
       "</div>"
      ],
      "text/plain": [
       "            # age         sex         bmi          bp          s1          s2  \\\n",
       "count  331.000000  331.000000  331.000000  331.000000  331.000000  331.000000   \n",
       "mean    -0.000214   -0.000293    0.000053   -0.001045   -0.001423   -0.001220   \n",
       "std      0.047207    0.047618    0.048627    0.047621    0.047371    0.046936   \n",
       "min     -0.107226   -0.044642   -0.090275   -0.102071   -0.126781   -0.115613   \n",
       "25%     -0.034575   -0.044642   -0.035307   -0.036656   -0.035968   -0.029967   \n",
       "50%      0.005383   -0.044642   -0.008362   -0.005671   -0.004321   -0.004445   \n",
       "75%      0.038076    0.050680    0.030979    0.032775    0.027326    0.028905   \n",
       "max      0.110727    0.050680    0.170555    0.132044    0.153914    0.198788   \n",
       "\n",
       "               s3          s4          s5          s6           Y  \n",
       "count  331.000000  331.000000  331.000000  331.000000  331.000000  \n",
       "mean     0.000440   -0.001473   -0.001594    0.000099  149.722054  \n",
       "std      0.047303    0.046591    0.048088    0.047263   76.796907  \n",
       "min     -0.102307   -0.076395   -0.126097   -0.137767   25.000000  \n",
       "25%     -0.032356   -0.039493   -0.035817   -0.034215   84.000000  \n",
       "50%     -0.006584   -0.002592   -0.005145   -0.001078  138.000000  \n",
       "75%      0.026550    0.034309    0.032124    0.027917  202.000000  \n",
       "max      0.181179    0.185234    0.133599    0.135612  346.000000  "
      ]
     },
     "execution_count": 45,
     "metadata": {},
     "output_type": "execute_result"
    }
   ],
   "source": [
    "diabetes.describe()"
   ]
  },
  {
   "cell_type": "code",
   "execution_count": 62,
   "metadata": {},
   "outputs": [],
   "source": [
    "from sklearn import model_selection"
   ]
  },
  {
   "cell_type": "code",
   "execution_count": 66,
   "metadata": {},
   "outputs": [
    {
     "name": "stdout",
     "output_type": "stream",
     "text": [
      "(331, 10)\n",
      "(331,)\n"
     ]
    }
   ],
   "source": [
    "print(X_train.shape)\n",
    "print(Y_train.shape)"
   ]
  },
  {
   "cell_type": "code",
   "execution_count": 77,
   "metadata": {},
   "outputs": [
    {
     "data": {
      "text/plain": [
       "(331, 1)"
      ]
     },
     "execution_count": 77,
     "metadata": {},
     "output_type": "execute_result"
    }
   ],
   "source": [
    "Y_train = Y_train.reshape(331,1)\n",
    "Y_train.shape"
   ]
  },
  {
   "cell_type": "code",
   "execution_count": 78,
   "metadata": {},
   "outputs": [],
   "source": [
    "from sklearn.linear_model import LinearRegression"
   ]
  },
  {
   "cell_type": "code",
   "execution_count": 79,
   "metadata": {},
   "outputs": [],
   "source": [
    "alg1 = LinearRegression()"
   ]
  },
  {
   "cell_type": "code",
   "execution_count": 80,
   "metadata": {},
   "outputs": [
    {
     "data": {
      "text/plain": [
       "LinearRegression(copy_X=True, fit_intercept=True, n_jobs=1, normalize=False)"
      ]
     },
     "execution_count": 80,
     "metadata": {},
     "output_type": "execute_result"
    }
   ],
   "source": [
    "alg1.fit(X_train,Y_train)"
   ]
  },
  {
   "cell_type": "code",
   "execution_count": 83,
   "metadata": {},
   "outputs": [
    {
     "data": {
      "text/plain": [
       "array([[  21.73408096, -256.66866675,  569.60940087,  303.63233545,\n",
       "        -833.11088526,  525.74313633,  136.07129167,  140.89458927,\n",
       "         731.44498492,   53.32119133]])"
      ]
     },
     "execution_count": 83,
     "metadata": {},
     "output_type": "execute_result"
    }
   ],
   "source": [
    "coefficients = alg1.coef_\n",
    "coefficients"
   ]
  },
  {
   "cell_type": "code",
   "execution_count": 87,
   "metadata": {},
   "outputs": [],
   "source": [
    "X_test = np.loadtxt(\"0000000000002329_test_diabetes_x_test.csv\",delimiter=\",\")"
   ]
  },
  {
   "cell_type": "code",
   "execution_count": 88,
   "metadata": {},
   "outputs": [
    {
     "data": {
      "text/plain": [
       "array([[ 0.02354575,  0.05068012, -0.0374625 , ..., -0.03949338,\n",
       "        -0.03075121, -0.01350402],\n",
       "       [-0.07816532, -0.04464164, -0.0730303 , ..., -0.03949338,\n",
       "        -0.01811827, -0.08391984],\n",
       "       [-0.03094232,  0.05068012,  0.00133873, ...,  0.1081111 ,\n",
       "         0.08379677,  0.00306441],\n",
       "       ...,\n",
       "       [ 0.0090156 , -0.04464164, -0.01267283, ...,  0.03430886,\n",
       "         0.02337484, -0.0052198 ],\n",
       "       [ 0.01991321, -0.04464164, -0.03422907, ...,  0.03283281,\n",
       "         0.02472532,  0.06933812],\n",
       "       [ 0.01628068,  0.05068012,  0.00996123, ..., -0.03949338,\n",
       "         0.01703713,  0.00720652]])"
      ]
     },
     "execution_count": 88,
     "metadata": {},
     "output_type": "execute_result"
    }
   ],
   "source": [
    "X_test"
   ]
  },
  {
   "cell_type": "code",
   "execution_count": 91,
   "metadata": {},
   "outputs": [],
   "source": [
    "np.set_printoptions(precision=5)"
   ]
  },
  {
   "cell_type": "code",
   "execution_count": 92,
   "metadata": {},
   "outputs": [
    {
     "data": {
      "text/plain": [
       "array([[105.52975],\n",
       "       [105.80392],\n",
       "       [178.60857],\n",
       "       [ 79.38288],\n",
       "       [ 52.95869],\n",
       "       [ 98.87264],\n",
       "       [150.71755],\n",
       "       [ 34.86515],\n",
       "       [113.13536],\n",
       "       [161.50184],\n",
       "       [135.86156],\n",
       "       [ 94.71592],\n",
       "       [138.48094],\n",
       "       [141.37442],\n",
       "       [158.76863],\n",
       "       [171.65289],\n",
       "       [106.44836],\n",
       "       [103.9266 ],\n",
       "       [ 95.38694],\n",
       "       [167.40118],\n",
       "       [166.53426],\n",
       "       [101.53465],\n",
       "       [252.45036],\n",
       "       [147.02259],\n",
       "       [214.78907],\n",
       "       [161.27557],\n",
       "       [210.61315],\n",
       "       [ 71.78092],\n",
       "       [189.65032],\n",
       "       [206.61343],\n",
       "       [219.98643],\n",
       "       [168.80193],\n",
       "       [116.84846],\n",
       "       [178.744  ],\n",
       "       [ 77.03247],\n",
       "       [ 59.54633],\n",
       "       [111.56738],\n",
       "       [156.95187],\n",
       "       [154.59591],\n",
       "       [198.94457],\n",
       "       [115.53884],\n",
       "       [153.46699],\n",
       "       [ 84.9618 ],\n",
       "       [113.70337],\n",
       "       [142.14156],\n",
       "       [147.3104 ],\n",
       "       [ 82.78072],\n",
       "       [ 77.89237],\n",
       "       [128.99006],\n",
       "       [261.58712],\n",
       "       [213.31188],\n",
       "       [243.98791],\n",
       "       [167.68132],\n",
       "       [183.69712],\n",
       "       [166.85927],\n",
       "       [202.1144 ],\n",
       "       [220.39236],\n",
       "       [172.40288],\n",
       "       [176.60898],\n",
       "       [109.04657],\n",
       "       [276.3779 ],\n",
       "       [ 90.99942],\n",
       "       [289.37221],\n",
       "       [119.56253],\n",
       "       [ 75.45688],\n",
       "       [180.78599],\n",
       "       [146.62093],\n",
       "       [156.42382],\n",
       "       [ 41.07904],\n",
       "       [247.90645],\n",
       "       [207.99121],\n",
       "       [ 90.09641],\n",
       "       [222.2417 ],\n",
       "       [189.86378],\n",
       "       [182.26954],\n",
       "       [164.39881],\n",
       "       [190.27067],\n",
       "       [105.44868],\n",
       "       [199.86136],\n",
       "       [245.79639],\n",
       "       [123.20281],\n",
       "       [119.41032],\n",
       "       [145.8662 ],\n",
       "       [206.19247],\n",
       "       [150.86282],\n",
       "       [142.23222],\n",
       "       [154.56875],\n",
       "       [115.29233],\n",
       "       [134.0781 ],\n",
       "       [118.42225],\n",
       "       [203.57676],\n",
       "       [170.66484],\n",
       "       [127.4098 ],\n",
       "       [ 57.13508],\n",
       "       [231.92227],\n",
       "       [185.20714],\n",
       "       [187.37495],\n",
       "       [ 83.55921],\n",
       "       [185.42586],\n",
       "       [217.34036],\n",
       "       [108.86715],\n",
       "       [ 80.98715],\n",
       "       [127.05524],\n",
       "       [242.00739],\n",
       "       [155.97234],\n",
       "       [125.67575],\n",
       "       [246.41236],\n",
       "       [234.96393],\n",
       "       [191.51298],\n",
       "       [168.33254],\n",
       "       [163.02965]])"
      ]
     },
     "execution_count": 92,
     "metadata": {},
     "output_type": "execute_result"
    }
   ],
   "source": [
    "Y_pred = alg1.predict(X_test)\n",
    "Y_pred"
   ]
  },
  {
   "cell_type": "code",
   "execution_count": 93,
   "metadata": {},
   "outputs": [],
   "source": [
    "pred1 = open('file','w')\n",
    "np.savetxt(\"pred1.csv\",Y_pred,delimiter=\",\")"
   ]
  },
  {
   "cell_type": "code",
   "execution_count": null,
   "metadata": {},
   "outputs": [],
   "source": []
  }
 ],
 "metadata": {
  "kernelspec": {
   "display_name": "Python 3",
   "language": "python",
   "name": "python3"
  },
  "language_info": {
   "codemirror_mode": {
    "name": "ipython",
    "version": 3
   },
   "file_extension": ".py",
   "mimetype": "text/x-python",
   "name": "python",
   "nbconvert_exporter": "python",
   "pygments_lexer": "ipython3",
   "version": "3.6.5"
  }
 },
 "nbformat": 4,
 "nbformat_minor": 2
}
