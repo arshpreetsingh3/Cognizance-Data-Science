{
 "cells": [
  {
   "cell_type": "code",
   "execution_count": 1,
   "metadata": {},
   "outputs": [
    {
     "name": "stderr",
     "output_type": "stream",
     "text": [
      "Using TensorFlow backend.\n"
     ]
    }
   ],
   "source": [
    "from keras.models import Sequential\n",
    "from keras.layers import Dense"
   ]
  },
  {
   "cell_type": "code",
   "execution_count": 2,
   "metadata": {},
   "outputs": [],
   "source": [
    "# Creating a Model\n",
    "model = Sequential()"
   ]
  },
  {
   "cell_type": "code",
   "execution_count": 3,
   "metadata": {},
   "outputs": [],
   "source": [
    "layer1 = Dense(units=32, activation = 'relu', input_dim = 30)\n",
    "model.add(layer1)\n",
    "model.add(Dense(units=16, activation = 'relu'))\n",
    "model.add(Dense(units=1, activation = 'sigmoid'))"
   ]
  },
  {
   "cell_type": "code",
   "execution_count": 4,
   "metadata": {},
   "outputs": [],
   "source": [
    "model.compile(optimizer='adam', loss='binary_crossentropy', metrics=['accuracy'])"
   ]
  },
  {
   "cell_type": "code",
   "execution_count": 5,
   "metadata": {},
   "outputs": [],
   "source": [
    "from sklearn import datasets\n",
    "cancer = datasets.load_breast_cancer()\n",
    "from sklearn.model_selection import train_test_split\n",
    "\n",
    "x_train, x_test, y_train, y_test = train_test_split(cancer.data, cancer.target, test_size = 0.2, random_state = 0)\n",
    "\n",
    "from sklearn.preprocessing import StandardScaler\n",
    "\n",
    "sc = StandardScaler()\n",
    "x_train = sc.fit_transform(x_train)\n",
    "x_test = sc.transform(x_test)"
   ]
  },
  {
   "cell_type": "code",
   "execution_count": 6,
   "metadata": {},
   "outputs": [
    {
     "name": "stdout",
     "output_type": "stream",
     "text": [
      "Train on 455 samples, validate on 114 samples\n",
      "Epoch 1/20\n",
      "455/455 [==============================] - 1s 3ms/step - loss: 0.8065 - acc: 0.3604 - val_loss: 0.6727 - val_acc: 0.5439\n",
      "Epoch 2/20\n",
      "455/455 [==============================] - 0s 69us/step - loss: 0.6089 - acc: 0.6747 - val_loss: 0.5091 - val_acc: 0.8333\n",
      "Epoch 3/20\n",
      "455/455 [==============================] - 0s 87us/step - loss: 0.4702 - acc: 0.8198 - val_loss: 0.4025 - val_acc: 0.8772\n",
      "Epoch 4/20\n",
      "455/455 [==============================] - 0s 82us/step - loss: 0.3750 - acc: 0.8879 - val_loss: 0.3290 - val_acc: 0.8772\n",
      "Epoch 5/20\n",
      "455/455 [==============================] - 0s 81us/step - loss: 0.3052 - acc: 0.9231 - val_loss: 0.2775 - val_acc: 0.8947\n",
      "Epoch 6/20\n",
      "455/455 [==============================] - 0s 80us/step - loss: 0.2547 - acc: 0.9297 - val_loss: 0.2418 - val_acc: 0.9123\n",
      "Epoch 7/20\n",
      "455/455 [==============================] - 0s 81us/step - loss: 0.2197 - acc: 0.9363 - val_loss: 0.2135 - val_acc: 0.9123\n",
      "Epoch 8/20\n",
      "455/455 [==============================] - 0s 66us/step - loss: 0.1917 - acc: 0.9385 - val_loss: 0.1911 - val_acc: 0.9123\n",
      "Epoch 9/20\n",
      "455/455 [==============================] - 0s 70us/step - loss: 0.1707 - acc: 0.9429 - val_loss: 0.1731 - val_acc: 0.9123\n",
      "Epoch 10/20\n",
      "455/455 [==============================] - 0s 77us/step - loss: 0.1541 - acc: 0.9516 - val_loss: 0.1580 - val_acc: 0.9211\n",
      "Epoch 11/20\n",
      "455/455 [==============================] - 0s 81us/step - loss: 0.1407 - acc: 0.9582 - val_loss: 0.1460 - val_acc: 0.9211\n",
      "Epoch 12/20\n",
      "455/455 [==============================] - 0s 71us/step - loss: 0.1298 - acc: 0.9670 - val_loss: 0.1358 - val_acc: 0.9211\n",
      "Epoch 13/20\n",
      "455/455 [==============================] - 0s 90us/step - loss: 0.1200 - acc: 0.9736 - val_loss: 0.1273 - val_acc: 0.9386\n",
      "Epoch 14/20\n",
      "455/455 [==============================] - 0s 70us/step - loss: 0.1120 - acc: 0.9714 - val_loss: 0.1202 - val_acc: 0.9386\n",
      "Epoch 15/20\n",
      "455/455 [==============================] - 0s 99us/step - loss: 0.1046 - acc: 0.9714 - val_loss: 0.1143 - val_acc: 0.9386\n",
      "Epoch 16/20\n",
      "455/455 [==============================] - 0s 55us/step - loss: 0.0988 - acc: 0.9714 - val_loss: 0.1094 - val_acc: 0.9474\n",
      "Epoch 17/20\n",
      "455/455 [==============================] - 0s 49us/step - loss: 0.0937 - acc: 0.9714 - val_loss: 0.1053 - val_acc: 0.9561\n",
      "Epoch 18/20\n",
      "455/455 [==============================] - 0s 59us/step - loss: 0.0890 - acc: 0.9714 - val_loss: 0.1017 - val_acc: 0.9561\n",
      "Epoch 19/20\n",
      "455/455 [==============================] - 0s 53us/step - loss: 0.0851 - acc: 0.9780 - val_loss: 0.0987 - val_acc: 0.9561\n",
      "Epoch 20/20\n",
      "455/455 [==============================] - 0s 61us/step - loss: 0.0813 - acc: 0.9780 - val_loss: 0.0964 - val_acc: 0.9561\n"
     ]
    },
    {
     "data": {
      "text/plain": [
       "<keras.callbacks.History at 0x20078585198>"
      ]
     },
     "execution_count": 6,
     "metadata": {},
     "output_type": "execute_result"
    }
   ],
   "source": [
    "model.fit(x_train, y_train, epochs=20, batch_size = 50, validation_data=(x_test, y_test))"
   ]
  },
  {
   "cell_type": "code",
   "execution_count": 9,
   "metadata": {},
   "outputs": [
    {
     "name": "stdout",
     "output_type": "stream",
     "text": [
      "114/114 [==============================] - 0s 48us/step\n"
     ]
    },
    {
     "data": {
      "text/plain": [
       "[0.09637509207976491, 0.9561403519228885]"
      ]
     },
     "execution_count": 9,
     "metadata": {},
     "output_type": "execute_result"
    }
   ],
   "source": [
    "predictions = model.predict(x_test)\n",
    "score = model.evaluate(x_test, y_test)\n",
    "score\n",
    "#evaluate function provide us the metric which we provide ourselves while writing the code"
   ]
  },
  {
   "cell_type": "code",
   "execution_count": 7,
   "metadata": {},
   "outputs": [
    {
     "data": {
      "text/plain": [
       "array([[1.7888503e-02],\n",
       "       [9.7293586e-01],\n",
       "       [9.9719739e-01],\n",
       "       [9.8060304e-01],\n",
       "       [9.9800378e-01],\n",
       "       [9.9685812e-01],\n",
       "       [9.8444289e-01],\n",
       "       [9.9743062e-01],\n",
       "       [9.9954754e-01],\n",
       "       [9.9971074e-01],\n",
       "       [5.5584770e-01],\n",
       "       [9.0897393e-01],\n",
       "       [9.9970120e-01],\n",
       "       [5.4134685e-01],\n",
       "       [3.9051086e-01],\n",
       "       [3.4162503e-02],\n",
       "       [9.8174542e-01],\n",
       "       [5.1790369e-03],\n",
       "       [1.0411812e-02],\n",
       "       [7.8348479e-05],\n",
       "       [1.1706822e-02],\n",
       "       [3.2254849e-02],\n",
       "       [9.7245324e-01],\n",
       "       [9.9743819e-01],\n",
       "       [1.0779385e-02],\n",
       "       [9.9891341e-01],\n",
       "       [9.9987447e-01],\n",
       "       [2.1575820e-02],\n",
       "       [9.9667597e-01],\n",
       "       [1.8936710e-03],\n",
       "       [9.9975044e-01],\n",
       "       [3.4774665e-02],\n",
       "       [8.5291827e-01],\n",
       "       [2.4340946e-02],\n",
       "       [9.9997914e-01],\n",
       "       [4.2598460e-02],\n",
       "       [9.8137122e-01],\n",
       "       [3.5293177e-02],\n",
       "       [9.8508126e-01],\n",
       "       [6.8186983e-02],\n",
       "       [4.0110511e-01],\n",
       "       [9.9965298e-01],\n",
       "       [1.9972780e-01],\n",
       "       [9.9985015e-01],\n",
       "       [9.0682763e-01],\n",
       "       [6.1848731e-04],\n",
       "       [9.9998927e-01],\n",
       "       [9.7396278e-01],\n",
       "       [9.9816906e-01],\n",
       "       [1.3731394e-03],\n",
       "       [3.1612723e-04],\n",
       "       [7.9797789e-02],\n",
       "       [1.9165773e-02],\n",
       "       [9.9640036e-01],\n",
       "       [9.8645246e-01],\n",
       "       [9.9876726e-01],\n",
       "       [9.9832350e-01],\n",
       "       [9.9210054e-01],\n",
       "       [9.9138194e-01],\n",
       "       [8.6538836e-05],\n",
       "       [7.2648145e-02],\n",
       "       [1.0564776e-01],\n",
       "       [9.9941981e-01],\n",
       "       [9.8838615e-01],\n",
       "       [4.2080423e-03],\n",
       "       [9.4993174e-01],\n",
       "       [1.3775018e-07],\n",
       "       [1.3839561e-03],\n",
       "       [2.2219042e-03],\n",
       "       [9.9722654e-01],\n",
       "       [5.5854201e-01],\n",
       "       [1.2408958e-03],\n",
       "       [9.9638414e-01],\n",
       "       [3.8383970e-01],\n",
       "       [1.4714887e-03],\n",
       "       [9.9200457e-01],\n",
       "       [9.9965656e-01],\n",
       "       [8.3490080e-01],\n",
       "       [9.9964046e-01],\n",
       "       [9.9988294e-01],\n",
       "       [6.8187624e-02],\n",
       "       [2.8863528e-07],\n",
       "       [2.2758155e-03],\n",
       "       [9.9950612e-01],\n",
       "       [9.8821208e-02],\n",
       "       [9.9834740e-01],\n",
       "       [9.9978000e-01],\n",
       "       [9.9994433e-01],\n",
       "       [2.8113106e-02],\n",
       "       [1.4346271e-06],\n",
       "       [9.9986839e-01],\n",
       "       [5.5836588e-01],\n",
       "       [1.8486050e-01],\n",
       "       [1.7987665e-04],\n",
       "       [9.9762124e-01],\n",
       "       [9.9376982e-01],\n",
       "       [3.9868391e-04],\n",
       "       [9.6997696e-01],\n",
       "       [9.8568183e-01],\n",
       "       [9.9649894e-01],\n",
       "       [9.9948871e-01],\n",
       "       [9.9501932e-01],\n",
       "       [9.8868304e-01],\n",
       "       [7.5139683e-01],\n",
       "       [6.6467840e-03],\n",
       "       [9.8479676e-01],\n",
       "       [3.5079371e-04],\n",
       "       [9.2161483e-01],\n",
       "       [6.5137792e-01],\n",
       "       [6.6690642e-01],\n",
       "       [9.7557813e-01],\n",
       "       [6.2832739e-03],\n",
       "       [1.2306204e-02],\n",
       "       [8.4380132e-01]], dtype=float32)"
      ]
     },
     "execution_count": 7,
     "metadata": {},
     "output_type": "execute_result"
    }
   ],
   "source": [
    "predictions = model.predict(x_test)\n",
    "predictions"
   ]
  },
  {
   "cell_type": "code",
   "execution_count": null,
   "metadata": {},
   "outputs": [],
   "source": []
  }
 ],
 "metadata": {
  "kernelspec": {
   "display_name": "Python 3",
   "language": "python",
   "name": "python3"
  },
  "language_info": {
   "codemirror_mode": {
    "name": "ipython",
    "version": 3
   },
   "file_extension": ".py",
   "mimetype": "text/x-python",
   "name": "python",
   "nbconvert_exporter": "python",
   "pygments_lexer": "ipython3",
   "version": "3.6.7"
  }
 },
 "nbformat": 4,
 "nbformat_minor": 2
}
