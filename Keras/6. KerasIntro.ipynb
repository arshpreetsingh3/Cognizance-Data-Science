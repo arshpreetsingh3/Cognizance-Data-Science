{
 "cells": [
  {
   "cell_type": "code",
   "execution_count": 1,
   "metadata": {},
   "outputs": [
    {
     "name": "stderr",
     "output_type": "stream",
     "text": [
      "Using TensorFlow backend.\n"
     ]
    }
   ],
   "source": [
    "from keras.models import Sequential\n",
    "from keras.layers import Dense"
   ]
  },
  {
   "cell_type": "code",
   "execution_count": 2,
   "metadata": {},
   "outputs": [],
   "source": [
    "# Creating a Model\n",
    "model = Sequential()"
   ]
  },
  {
   "cell_type": "code",
   "execution_count": 3,
   "metadata": {},
   "outputs": [],
   "source": [
    "layer1 = Dense(units=32, activation = 'relu', input_dim = 30)\n",
    "model.add(layer1)\n",
    "model.add(Dense(units=16, activation = 'relu'))\n",
    "model.add(Dense(units=1, activation = 'sigmoid'))"
   ]
  },
  {
   "cell_type": "code",
   "execution_count": 4,
   "metadata": {},
   "outputs": [],
   "source": [
    "model.compile(optimizer='adam', loss='binary_crossentropy', metrics=['accuracy'])"
   ]
  },
  {
   "cell_type": "code",
   "execution_count": 5,
   "metadata": {},
   "outputs": [],
   "source": [
    "from sklearn import datasets\n",
    "cancer = datasets.load_breast_cancer()\n",
    "from sklearn.model_selection import train_test_split\n",
    "\n",
    "x_train, x_test, y_train, y_test = train_test_split(cancer.data, cancer.target, test_size = 0.2, random_state = 0)\n",
    "\n",
    "from sklearn.preprocessing import StandardScaler\n",
    "\n",
    "sc = StandardScaler()\n",
    "x_train = sc.fit_transform(x_train)\n",
    "x_test = sc.transform(x_test)"
   ]
  },
  {
   "cell_type": "code",
   "execution_count": 6,
   "metadata": {},
   "outputs": [
    {
     "name": "stdout",
     "output_type": "stream",
     "text": [
      "Epoch 1/1\n",
      "455/455 [==============================] - 3s 6ms/step - loss: 0.6521 - acc: 0.6769\n"
     ]
    },
    {
     "data": {
      "text/plain": [
       "<keras.callbacks.History at 0x20034156c18>"
      ]
     },
     "execution_count": 6,
     "metadata": {},
     "output_type": "execute_result"
    }
   ],
   "source": [
    "model.fit(x_train, y_train)"
   ]
  },
  {
   "cell_type": "code",
   "execution_count": 7,
   "metadata": {},
   "outputs": [
    {
     "name": "stdout",
     "output_type": "stream",
     "text": [
      "Train on 455 samples, validate on 114 samples\n",
      "Epoch 1/20\n",
      "455/455 [==============================] - 0s 526us/step - loss: 0.4513 - acc: 0.8308 - val_loss: 0.4127 - val_acc: 0.8596\n",
      "Epoch 2/20\n",
      "455/455 [==============================] - 0s 71us/step - loss: 0.3598 - acc: 0.8857 - val_loss: 0.3318 - val_acc: 0.8947\n",
      "Epoch 3/20\n",
      "455/455 [==============================] - 0s 67us/step - loss: 0.2953 - acc: 0.9143 - val_loss: 0.2773 - val_acc: 0.9298\n",
      "Epoch 4/20\n",
      "455/455 [==============================] - 0s 92us/step - loss: 0.2476 - acc: 0.9385 - val_loss: 0.2386 - val_acc: 0.9386\n",
      "Epoch 5/20\n",
      "455/455 [==============================] - 0s 80us/step - loss: 0.2111 - acc: 0.9473 - val_loss: 0.2089 - val_acc: 0.9474\n",
      "Epoch 6/20\n",
      "455/455 [==============================] - 0s 90us/step - loss: 0.1827 - acc: 0.9538 - val_loss: 0.1860 - val_acc: 0.9561\n",
      "Epoch 7/20\n",
      "455/455 [==============================] - 0s 68us/step - loss: 0.1609 - acc: 0.9516 - val_loss: 0.1669 - val_acc: 0.9474\n",
      "Epoch 8/20\n",
      "455/455 [==============================] - 0s 86us/step - loss: 0.1426 - acc: 0.9648 - val_loss: 0.1521 - val_acc: 0.9386\n",
      "Epoch 9/20\n",
      "455/455 [==============================] - 0s 62us/step - loss: 0.1270 - acc: 0.9670 - val_loss: 0.1411 - val_acc: 0.9298\n",
      "Epoch 10/20\n",
      "455/455 [==============================] - 0s 61us/step - loss: 0.1156 - acc: 0.9780 - val_loss: 0.1324 - val_acc: 0.9386\n",
      "Epoch 11/20\n",
      "455/455 [==============================] - 0s 55us/step - loss: 0.1061 - acc: 0.9780 - val_loss: 0.1240 - val_acc: 0.9298\n",
      "Epoch 12/20\n",
      "455/455 [==============================] - 0s 71us/step - loss: 0.0985 - acc: 0.9780 - val_loss: 0.1173 - val_acc: 0.9298\n",
      "Epoch 13/20\n",
      "455/455 [==============================] - 0s 52us/step - loss: 0.0915 - acc: 0.9780 - val_loss: 0.1117 - val_acc: 0.9561\n",
      "Epoch 14/20\n",
      "455/455 [==============================] - 0s 85us/step - loss: 0.0861 - acc: 0.9802 - val_loss: 0.1068 - val_acc: 0.9649\n",
      "Epoch 15/20\n",
      "455/455 [==============================] - 0s 54us/step - loss: 0.0820 - acc: 0.9802 - val_loss: 0.1031 - val_acc: 0.9649\n",
      "Epoch 16/20\n",
      "455/455 [==============================] - 0s 60us/step - loss: 0.0775 - acc: 0.9824 - val_loss: 0.0994 - val_acc: 0.9649\n",
      "Epoch 17/20\n",
      "455/455 [==============================] - 0s 63us/step - loss: 0.0739 - acc: 0.9868 - val_loss: 0.0955 - val_acc: 0.9649\n",
      "Epoch 18/20\n",
      "455/455 [==============================] - 0s 61us/step - loss: 0.0709 - acc: 0.9890 - val_loss: 0.0937 - val_acc: 0.9649\n",
      "Epoch 19/20\n",
      "455/455 [==============================] - 0s 75us/step - loss: 0.0683 - acc: 0.9868 - val_loss: 0.0920 - val_acc: 0.9649\n",
      "Epoch 20/20\n",
      "455/455 [==============================] - 0s 62us/step - loss: 0.0659 - acc: 0.9868 - val_loss: 0.0900 - val_acc: 0.9649\n"
     ]
    },
    {
     "data": {
      "text/plain": [
       "<keras.callbacks.History at 0x2003459ee80>"
      ]
     },
     "execution_count": 7,
     "metadata": {},
     "output_type": "execute_result"
    }
   ],
   "source": [
    "model.fit(x_train, y_train, epochs=20, batch_size = 50, validation_data=(x_test, y_test))"
   ]
  },
  {
   "cell_type": "code",
   "execution_count": null,
   "metadata": {},
   "outputs": [],
   "source": []
  }
 ],
 "metadata": {
  "kernelspec": {
   "display_name": "Python 3",
   "language": "python",
   "name": "python3"
  },
  "language_info": {
   "codemirror_mode": {
    "name": "ipython",
    "version": 3
   },
   "file_extension": ".py",
   "mimetype": "text/x-python",
   "name": "python",
   "nbconvert_exporter": "python",
   "pygments_lexer": "ipython3",
   "version": "3.6.7"
  }
 },
 "nbformat": 4,
 "nbformat_minor": 2
}
