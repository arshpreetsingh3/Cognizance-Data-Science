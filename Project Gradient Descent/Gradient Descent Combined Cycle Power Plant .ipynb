{
 "cells": [
  {
   "cell_type": "code",
   "execution_count": 16,
   "metadata": {},
   "outputs": [],
   "source": [
    "import numpy as np"
   ]
  },
  {
   "cell_type": "code",
   "execution_count": 17,
   "metadata": {},
   "outputs": [
    {
     "data": {
      "text/plain": [
       "(7176, 5)"
      ]
     },
     "execution_count": 17,
     "metadata": {},
     "output_type": "execute_result"
    }
   ],
   "source": [
    "train_data = np.loadtxt(\"0000000000002419_training_ccpp_x_y_train.csv\", delimiter=\",\")\n",
    "train_data.shape"
   ]
  },
  {
   "cell_type": "code",
   "execution_count": 18,
   "metadata": {},
   "outputs": [
    {
     "data": {
      "text/plain": [
       "array([[   8.58,   38.38, 1021.03,   84.37,  482.26],\n",
       "       [  21.79,   58.2 , 1017.21,   66.74,  446.94],\n",
       "       [  16.64,   48.92, 1011.55,   78.76,  452.56],\n",
       "       ...,\n",
       "       [  29.8 ,   69.34, 1009.36,   64.74,  437.65],\n",
       "       [  16.37,   54.3 , 1017.94,   63.63,  459.97],\n",
       "       [  30.11,   62.04, 1010.69,   47.96,  444.42]])"
      ]
     },
     "execution_count": 18,
     "metadata": {},
     "output_type": "execute_result"
    }
   ],
   "source": [
    "train_data"
   ]
  },
  {
   "cell_type": "code",
   "execution_count": 19,
   "metadata": {},
   "outputs": [
    {
     "data": {
      "text/plain": [
       "((7176, 4), (7176, 1))"
      ]
     },
     "execution_count": 19,
     "metadata": {},
     "output_type": "execute_result"
    }
   ],
   "source": [
    "train_x=train_data[:,0:4]\n",
    "train_y=train_data[:,4:5]\n",
    "train_x.shape,train_y.shape"
   ]
  },
  {
   "cell_type": "code",
   "execution_count": 20,
   "metadata": {},
   "outputs": [
    {
     "name": "stdout",
     "output_type": "stream",
     "text": [
      "7176\n",
      "(7176, 5)\n"
     ]
    }
   ],
   "source": [
    "    print(len(train_x))\n",
    "    ap=np.array([1 for i in range(len(train_x))])\n",
    "    ap=ap.reshape(7176,1)\n",
    "    train_x= np.append(train_x,ap,axis=1)\n",
    "    print(train_x.shape)"
   ]
  },
  {
   "cell_type": "code",
   "execution_count": 21,
   "metadata": {},
   "outputs": [],
   "source": [
    "def cost(result,m,train):\n",
    "    c=0\n",
    "    for i in range(len(train)):\n",
    "        c+= (result[i][0]-(m*train[i]).sum())**2\n",
    "    return c/len(train)\n"
   ]
  },
  {
   "cell_type": "code",
   "execution_count": 22,
   "metadata": {},
   "outputs": [],
   "source": [
    "def descent2(m,train,result,alpha,itr):\n",
    "    slope=np.array([0 for i in range(len(train_x[0]))])\n",
    "    for i in range(itr):\n",
    "        for j in range(len(train)):\n",
    "            slp=0\n",
    "            for q in range(len(m)):\n",
    "                slp+=(-2/len(train))*(result[j][0]-(m*train[j]).sum())*(train[j][q])\n",
    "            slope[q]=slp\n",
    "        m=m-alpha*slope\n",
    "        print(\"cost\",i+1,\":\",cost(result,m,train),\"    \",m)\n",
    "    print(m)\n",
    "    return m\n"
   ]
  },
  {
   "cell_type": "code",
   "execution_count": 23,
   "metadata": {},
   "outputs": [],
   "source": [
    "def gradientDescent():\n",
    "    alpha=0.1\n",
    "    itr=100\n",
    "    m=np.array([0 for i in range(len(train_x[0]))])\n",
    "    print(m)\n",
    "    m=descent2(m,train_x,train_y,alpha,itr)\n",
    "    print(m)\n",
    "    return m"
   ]
  },
  {
   "cell_type": "code",
   "execution_count": 24,
   "metadata": {},
   "outputs": [],
   "source": [
    "def fit():\n",
    "    return gradientDescent()"
   ]
  },
  {
   "cell_type": "code",
   "execution_count": 25,
   "metadata": {},
   "outputs": [],
   "source": [
    "def prediction(train,m):\n",
    "    result=np.array([0 for i in range(len(train))]).reshape(len(train),1)\n",
    "    for i in range(len(train)):\n",
    "        result[i]=(train[i]*m).sum()\n",
    "    return result\n"
   ]
  },
  {
   "cell_type": "code",
   "execution_count": 26,
   "metadata": {},
   "outputs": [],
   "source": [
    "def score(y_truth,y_pred):\n",
    "    u=((y_truth-y_pred)**2).sum()\n",
    "    v=((y_truth-y_truth.mean())**2).sum()\n",
    "    return 1-u/v"
   ]
  },
  {
   "cell_type": "code",
   "execution_count": 29,
   "metadata": {},
   "outputs": [],
   "source": [
    "def run():\n",
    "    m=fit()\n",
    "    result=prediction(train_x,m)\n",
    "    print(score(train_y,result))\n",
    "    finalResult=prediction(test_x,m)\n",
    "    print(finalResult.shape)\n",
    "    np.savetxt(\"gradientdescent_combinedpowerplant.csv\", finalResult, delimiter=\",\")  "
   ]
  },
  {
   "cell_type": "code",
   "execution_count": 28,
   "metadata": {},
   "outputs": [
    {
     "data": {
      "text/plain": [
       "(2392, 4)"
      ]
     },
     "execution_count": 28,
     "metadata": {},
     "output_type": "execute_result"
    }
   ],
   "source": [
    "test_data=np.loadtxt('0000000000002419_test_ccpp_x_test.csv',delimiter=',')\n",
    "test_data.shape\n",
    "test_x=test_data\n",
    "test_x.shape"
   ]
  },
  {
   "cell_type": "code",
   "execution_count": 27,
   "metadata": {},
   "outputs": [
    {
     "name": "stdout",
     "output_type": "stream",
     "text": [
      "(2392, 6)\n"
     ]
    }
   ],
   "source": [
    "    ap=np.array([1 for i in range(len(test_x))])\n",
    "    ap=ap.reshape(len(test_x),1)\n",
    "    test_x= np.append(test_x,ap,axis=1)\n",
    "    print(test_x.shape)"
   ]
  },
  {
   "cell_type": "code",
   "execution_count": 30,
   "metadata": {},
   "outputs": [
    {
     "name": "stdout",
     "output_type": "stream",
     "text": [
      "[0 0 0 0 0]\n",
      "cost 1 : 194097.14412826038      [ 0.   0.   0.   0.  14.2]\n",
      "cost 2 : 182137.20043595353      [ 0.  0.  0.  0. 28.]\n",
      "cost 3 : 170971.01803684566      [ 0.   0.   0.   0.  41.3]\n",
      "cost 4 : 160478.64067229597      [ 0.   0.   0.   0.  54.2]\n",
      "cost 5 : 150629.1083423072      [ 0.   0.   0.   0.  66.7]\n",
      "cost 6 : 141392.42104687894      [ 0.   0.   0.   0.  78.8]\n",
      "cost 7 : 132739.53878600837      [ 0.   0.   0.   0.  90.5]\n",
      "cost 8 : 124642.3815596987      [  0.    0.    0.    0.  101.8]\n",
      "cost 9 : 117073.82936794916      [  0.    0.    0.    0.  112.7]\n",
      "cost 10 : 109941.48595211787      [  0.    0.    0.    0.  123.3]\n",
      "cost 11 : 103226.27131220735      [  0.    0.    0.    0.  133.6]\n",
      "cost 12 : 96971.82170685624      [  0.    0.    0.    0.  143.5]\n",
      "cost 13 : 91094.10087742479      [  0.    0.    0.    0.  153.1]\n",
      "cost 14 : 85575.82882391299      [  0.    0.    0.    0.  162.4]\n",
      "cost 15 : 80400.26554632116      [  0.    0.    0.    0.  171.4]\n",
      "cost 16 : 75551.21104464922      [  0.    0.    0.    0.  180.1]\n",
      "cost 17 : 71013.0053188963      [  0.    0.    0.    0.  188.5]\n",
      "cost 18 : 66718.9721104236      [  0.    0.    0.    0.  196.7]\n",
      "cost 19 : 62709.22767787051      [  0.    0.    0.    0.  204.6]\n",
      "cost 20 : 58969.55202123733      [  0.    0.    0.    0.  212.2]\n",
      "cost 21 : 55439.28888188396      [  0.    0.    0.    0.  219.6]\n",
      "cost 22 : 52109.55825981063      [  0.    0.    0.    0.  226.8]\n",
      "cost 23 : 49015.85641365657      [  0.    0.    0.    0.  233.7]\n",
      "cost 24 : 46102.94708478283      [  0.    0.    0.    0.  240.4]\n",
      "cost 25 : 43362.79027318842      [  0.    0.    0.    0.  246.9]\n",
      "cost 26 : 40787.585978874195      [  0.    0.    0.    0.  253.2]\n",
      "cost 27 : 38369.774201839464      [  0.    0.    0.    0.  259.3]\n",
      "cost 28 : 36102.03494208475      [  0.    0.    0.    0.  265.2]\n",
      "cost 29 : 33977.28819960975      [  0.    0.    0.    0.  270.9]\n",
      "cost 30 : 31988.69397441464      [  0.    0.    0.    0.  276.4]\n",
      "cost 31 : 30129.65226649939      [  0.    0.    0.    0.  281.7]\n",
      "cost 32 : 28360.28681722416      [  0.    0.    0.    0.  286.9]\n",
      "cost 33 : 26709.97388522851      [  0.    0.    0.    0.  291.9]\n",
      "cost 34 : 25172.713470512863      [  0.    0.    0.    0.  296.7]\n",
      "cost 35 : 23712.129314436923      [  0.    0.    0.    0.  301.4]\n",
      "cost 36 : 22355.097675641056      [  0.    0.    0.    0.  305.9]\n",
      "cost 37 : 21067.382295484942      [  0.    0.    0.    0.  310.3]\n",
      "cost 38 : 19846.343173968737      [  0.    0.    0.    0.  314.6]\n",
      "cost 39 : 18716.53656973242      [  0.    0.    0.    0.  318.7]\n",
      "cost 40 : 17646.686224136014      [  0.    0.    0.    0.  322.7]\n",
      "cost 41 : 16634.39213717951      [  0.    0.    0.    0.  326.6]\n",
      "cost 42 : 15702.130567502772      [  0.    0.    0.    0.  330.3]\n",
      "cost 43 : 14821.345256465993      [  0.    0.    0.    0.  333.9]\n",
      "cost 44 : 13989.87620406909      [  0.    0.    0.    0.  337.4]\n",
      "cost 45 : 13205.623410312175      [  0.    0.    0.    0.  340.8]\n",
      "cost 46 : 12466.546875195125      [  0.    0.    0.    0.  344.1]\n",
      "cost 47 : 11770.666598718013      [  0.    0.    0.    0.  347.3]\n",
      "cost 48 : 11116.062580880698      [  0.    0.    0.    0.  350.4]\n",
      "cost 49 : 10500.874821683366      [  0.    0.    0.    0.  353.4]\n",
      "cost 50 : 9923.303321125968      [  0.    0.    0.    0.  356.3]\n",
      "cost 51 : 9381.608079208487      [  0.    0.    0.    0.  359.1]\n",
      "cost 52 : 8874.10909593088      [  0.    0.    0.    0.  361.8]\n",
      "cost 53 : 8399.18637129321      [  0.    0.    0.    0.  364.4]\n",
      "cost 54 : 7955.279905295411      [  0.    0.    0.    0.  366.9]\n",
      "cost 55 : 7540.889697937587      [  0.    0.    0.    0.  369.3]\n",
      "cost 56 : 7138.019490579739      [  0.    0.    0.    0.  371.7]\n",
      "cost 57 : 6762.745541861765      [  0.   0.   0.   0. 374.]\n",
      "cost 58 : 6413.687851783727      [  0.    0.    0.    0.  376.2]\n",
      "cost 59 : 6089.5264203455945      [  0.    0.    0.    0.  378.3]\n",
      "cost 60 : 5774.184988907475      [  0.    0.    0.    0.  380.4]\n",
      "cost 61 : 5482.059816109247      [  0.    0.    0.    0.  382.4]\n",
      "cost 62 : 5211.950901950931      [  0.    0.    0.    0.  384.3]\n",
      "cost 63 : 4949.061987792632      [  0.    0.    0.    0.  386.2]\n",
      "cost 64 : 4706.669332274234      [  0.   0.   0.   0. 388.]\n",
      "cost 65 : 4470.7566767558665      [  0.    0.    0.    0.  389.8]\n",
      "cost 66 : 4253.900279877369      [  0.    0.    0.    0.  391.5]\n",
      "cost 67 : 4055.0801416387994      [  0.    0.    0.    0.  393.1]\n",
      "cost 68 : 3861.3800034002197      [  0.    0.    0.    0.  394.7]\n",
      "cost 69 : 3684.4361238015636      [  0.    0.    0.    0.  396.2]\n",
      "cost 70 : 3511.9922442028997      [  0.    0.    0.    0.  397.7]\n",
      "cost 71 : 3355.1046232441445      [  0.    0.    0.    0.  399.1]\n",
      "cost 72 : 3202.1370022853744      [  0.    0.    0.    0.  400.5]\n",
      "cost 73 : 3053.089381326653      [  0.    0.    0.    0.  401.9]\n",
      "cost 74 : 2918.198019007803      [  0.    0.    0.    0.  403.2]\n",
      "cost 75 : 2786.6866566889526      [  0.    0.    0.    0.  404.5]\n",
      "cost 76 : 2668.291553010037      [  0.    0.    0.    0.  405.7]\n",
      "cost 77 : 2552.7764493311033      [  0.    0.    0.    0.  406.9]\n",
      "cost 78 : 2440.1413456521864      [  0.    0.    0.    0.  408.1]\n",
      "cost 79 : 2339.422500613172      [  0.    0.    0.    0.  409.2]\n",
      "cost 80 : 2241.123655574144      [  0.    0.    0.    0.  410.3]\n",
      "cost 81 : 2153.8610691750273      [  0.    0.    0.    0.  411.3]\n",
      "cost 82 : 2068.5984827759244      [  0.    0.    0.    0.  412.3]\n",
      "cost 83 : 1985.3358963768098      [  0.    0.    0.    0.  413.3]\n",
      "cost 84 : 1912.1095686176257      [  0.    0.    0.    0.  414.2]\n",
      "cost 85 : 1840.503240858421      [  0.    0.    0.    0.  415.1]\n",
      "cost 86 : 1770.516913099224      [  0.   0.   0.   0. 416.]\n",
      "cost 87 : 1702.1505853400358      [  0.    0.    0.    0.  416.9]\n",
      "cost 88 : 1642.7405162207442      [  0.    0.    0.    0.  417.7]\n",
      "cost 89 : 1584.6104471014576      [  0.    0.    0.    0.  418.5]\n",
      "cost 90 : 1527.7603779821645      [  0.    0.    0.    0.  419.3]\n",
      "cost 91 : 1472.1903088628753      [  0.    0.    0.    0.  420.1]\n",
      "cost 92 : 1424.6164983835076      [  0.    0.    0.    0.  420.8]\n",
      "cost 93 : 1378.022687904128      [  0.    0.    0.    0.  421.5]\n",
      "cost 94 : 1332.4088774247534      [  0.    0.    0.    0.  422.2]\n",
      "cost 95 : 1287.7750669453828      [  0.    0.    0.    0.  422.9]\n",
      "cost 96 : 1250.29751510592      [  0.    0.    0.    0.  423.5]\n",
      "cost 97 : 1213.539963266448      [  0.    0.    0.    0.  424.1]\n",
      "cost 98 : 1177.5024114269834      [  0.    0.    0.    0.  424.7]\n",
      "cost 99 : 1142.1848595875206      [  0.    0.    0.    0.  425.3]\n",
      "cost 100 : 1107.5873077480476      [  0.    0.    0.    0.  425.9]\n",
      "[  0.    0.    0.    0.  425.9]\n",
      "[  0.    0.    0.    0.  425.9]\n",
      "-2.9507521713794076\n"
     ]
    },
    {
     "ename": "ValueError",
     "evalue": "operands could not be broadcast together with shapes (4,) (5,) ",
     "output_type": "error",
     "traceback": [
      "\u001b[1;31m---------------------------------------------------------------------------\u001b[0m",
      "\u001b[1;31mValueError\u001b[0m                                Traceback (most recent call last)",
      "\u001b[1;32m<ipython-input-30-ec9775ede022>\u001b[0m in \u001b[0;36m<module>\u001b[1;34m()\u001b[0m\n\u001b[1;32m----> 1\u001b[1;33m \u001b[0mrun\u001b[0m\u001b[1;33m(\u001b[0m\u001b[1;33m)\u001b[0m\u001b[1;33m\u001b[0m\u001b[0m\n\u001b[0m",
      "\u001b[1;32m<ipython-input-29-d5335f180913>\u001b[0m in \u001b[0;36mrun\u001b[1;34m()\u001b[0m\n\u001b[0;32m      3\u001b[0m     \u001b[0mresult\u001b[0m\u001b[1;33m=\u001b[0m\u001b[0mprediction\u001b[0m\u001b[1;33m(\u001b[0m\u001b[0mtrain_x\u001b[0m\u001b[1;33m,\u001b[0m\u001b[0mm\u001b[0m\u001b[1;33m)\u001b[0m\u001b[1;33m\u001b[0m\u001b[0m\n\u001b[0;32m      4\u001b[0m     \u001b[0mprint\u001b[0m\u001b[1;33m(\u001b[0m\u001b[0mscore\u001b[0m\u001b[1;33m(\u001b[0m\u001b[0mtrain_y\u001b[0m\u001b[1;33m,\u001b[0m\u001b[0mresult\u001b[0m\u001b[1;33m)\u001b[0m\u001b[1;33m)\u001b[0m\u001b[1;33m\u001b[0m\u001b[0m\n\u001b[1;32m----> 5\u001b[1;33m     \u001b[0mfinalResult\u001b[0m\u001b[1;33m=\u001b[0m\u001b[0mprediction\u001b[0m\u001b[1;33m(\u001b[0m\u001b[0mtest_x\u001b[0m\u001b[1;33m,\u001b[0m\u001b[0mm\u001b[0m\u001b[1;33m)\u001b[0m\u001b[1;33m\u001b[0m\u001b[0m\n\u001b[0m\u001b[0;32m      6\u001b[0m     \u001b[0mprint\u001b[0m\u001b[1;33m(\u001b[0m\u001b[0mfinalResult\u001b[0m\u001b[1;33m.\u001b[0m\u001b[0mshape\u001b[0m\u001b[1;33m)\u001b[0m\u001b[1;33m\u001b[0m\u001b[0m\n\u001b[0;32m      7\u001b[0m     \u001b[0mnp\u001b[0m\u001b[1;33m.\u001b[0m\u001b[0msavetxt\u001b[0m\u001b[1;33m(\u001b[0m\u001b[1;34m\"gradientdescent_combinedpowerplant.csv\"\u001b[0m\u001b[1;33m,\u001b[0m \u001b[0mfinalResult\u001b[0m\u001b[1;33m,\u001b[0m \u001b[0mdelimiter\u001b[0m\u001b[1;33m=\u001b[0m\u001b[1;34m\",\"\u001b[0m\u001b[1;33m)\u001b[0m\u001b[1;33m\u001b[0m\u001b[0m\n",
      "\u001b[1;32m<ipython-input-25-eb2145fe1c1d>\u001b[0m in \u001b[0;36mprediction\u001b[1;34m(train, m)\u001b[0m\n\u001b[0;32m      2\u001b[0m     \u001b[0mresult\u001b[0m\u001b[1;33m=\u001b[0m\u001b[0mnp\u001b[0m\u001b[1;33m.\u001b[0m\u001b[0marray\u001b[0m\u001b[1;33m(\u001b[0m\u001b[1;33m[\u001b[0m\u001b[1;36m0\u001b[0m \u001b[1;32mfor\u001b[0m \u001b[0mi\u001b[0m \u001b[1;32min\u001b[0m \u001b[0mrange\u001b[0m\u001b[1;33m(\u001b[0m\u001b[0mlen\u001b[0m\u001b[1;33m(\u001b[0m\u001b[0mtrain\u001b[0m\u001b[1;33m)\u001b[0m\u001b[1;33m)\u001b[0m\u001b[1;33m]\u001b[0m\u001b[1;33m)\u001b[0m\u001b[1;33m.\u001b[0m\u001b[0mreshape\u001b[0m\u001b[1;33m(\u001b[0m\u001b[0mlen\u001b[0m\u001b[1;33m(\u001b[0m\u001b[0mtrain\u001b[0m\u001b[1;33m)\u001b[0m\u001b[1;33m,\u001b[0m\u001b[1;36m1\u001b[0m\u001b[1;33m)\u001b[0m\u001b[1;33m\u001b[0m\u001b[0m\n\u001b[0;32m      3\u001b[0m     \u001b[1;32mfor\u001b[0m \u001b[0mi\u001b[0m \u001b[1;32min\u001b[0m \u001b[0mrange\u001b[0m\u001b[1;33m(\u001b[0m\u001b[0mlen\u001b[0m\u001b[1;33m(\u001b[0m\u001b[0mtrain\u001b[0m\u001b[1;33m)\u001b[0m\u001b[1;33m)\u001b[0m\u001b[1;33m:\u001b[0m\u001b[1;33m\u001b[0m\u001b[0m\n\u001b[1;32m----> 4\u001b[1;33m         \u001b[0mresult\u001b[0m\u001b[1;33m[\u001b[0m\u001b[0mi\u001b[0m\u001b[1;33m]\u001b[0m\u001b[1;33m=\u001b[0m\u001b[1;33m(\u001b[0m\u001b[0mtrain\u001b[0m\u001b[1;33m[\u001b[0m\u001b[0mi\u001b[0m\u001b[1;33m]\u001b[0m\u001b[1;33m*\u001b[0m\u001b[0mm\u001b[0m\u001b[1;33m)\u001b[0m\u001b[1;33m.\u001b[0m\u001b[0msum\u001b[0m\u001b[1;33m(\u001b[0m\u001b[1;33m)\u001b[0m\u001b[1;33m\u001b[0m\u001b[0m\n\u001b[0m\u001b[0;32m      5\u001b[0m     \u001b[1;32mreturn\u001b[0m \u001b[0mresult\u001b[0m\u001b[1;33m\u001b[0m\u001b[0m\n",
      "\u001b[1;31mValueError\u001b[0m: operands could not be broadcast together with shapes (4,) (5,) "
     ]
    }
   ],
   "source": [
    "run()"
   ]
  },
  {
   "cell_type": "code",
   "execution_count": null,
   "metadata": {},
   "outputs": [],
   "source": []
  }
 ],
 "metadata": {
  "kernelspec": {
   "display_name": "Python 3",
   "language": "python",
   "name": "python3"
  },
  "language_info": {
   "codemirror_mode": {
    "name": "ipython",
    "version": 3
   },
   "file_extension": ".py",
   "mimetype": "text/x-python",
   "name": "python",
   "nbconvert_exporter": "python",
   "pygments_lexer": "ipython3",
   "version": "3.6.5"
  }
 },
 "nbformat": 4,
 "nbformat_minor": 2
}
