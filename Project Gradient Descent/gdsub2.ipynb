{
 "cells": [
  {
   "cell_type": "code",
   "execution_count": 76,
   "metadata": {},
   "outputs": [],
   "source": [
    "import numpy as np\n",
    "import pandas as pd\n",
    "from sklearn import preprocessing\n",
    "from sklearn.ensemble import GradientBoostingRegressor"
   ]
  },
  {
   "cell_type": "code",
   "execution_count": 77,
   "metadata": {},
   "outputs": [
    {
     "data": {
      "text/plain": [
       "GradientBoostingRegressor(alpha=0.9, criterion='friedman_mse', init=None,\n",
       "             learning_rate=0.1, loss='ls', max_depth=3, max_features=None,\n",
       "             max_leaf_nodes=None, min_impurity_decrease=0.0,\n",
       "             min_impurity_split=None, min_samples_leaf=1,\n",
       "             min_samples_split=2, min_weight_fraction_leaf=0.0,\n",
       "             n_estimators=100, presort='auto', random_state=None,\n",
       "             subsample=1.0, verbose=0, warm_start=False)"
      ]
     },
     "execution_count": 77,
     "metadata": {},
     "output_type": "execute_result"
    }
   ],
   "source": [
    "data = np.genfromtxt(\"Desktop/0000000000002419_training_ccpp_x_y_train.csv\", delimiter = ',')\n",
    "data.shape\n",
    "a = np.ones((7176,1))\n",
    "data2 = data[:,:4]\n",
    "data2.shape\n",
    "data2 = np.hstack((data2,a))\n",
    "data2.shape\n",
    "sc = preprocessing.StandardScaler()\n",
    "sc.fit(data2)\n",
    "sc.transform(data2)\n",
    "data3 = data[:,4]\n",
    "alg1 = GradientBoostingRegressor()\n",
    "alg1.fit(data2,data3)\n",
    "#data2 = np.hstack((data2,data3))"
   ]
  },
  {
   "cell_type": "code",
   "execution_count": 46,
   "metadata": {},
   "outputs": [],
   "source": [
    "def cost(data,mx):\n",
    "    ans = 0\n",
    "    N = len(data)\n",
    "    for i in range(len(data)):\n",
    "        sum = 0\n",
    "        for j in range(len(mx)):\n",
    "            sum += mx[j] * data[i,j]\n",
    "        ans += (1/N) * ((data[i,5] - sum)**2)\n",
    "    return ans"
   ]
  },
  {
   "cell_type": "code",
   "execution_count": 47,
   "metadata": {},
   "outputs": [],
   "source": [
    "def stg(data,lr,mx):\n",
    "    N = len(data)\n",
    "    for k in range(len(mx)):\n",
    "        m = 0\n",
    "        for i in range(len(data)):\n",
    "            msum = 0\n",
    "            for j in range(len(mx)):\n",
    "                msum += mx[j] * data[i,j]\n",
    "            m += (-2/N) * (data[i,5] - msum) * data[i,k]\n",
    "            mx[k] = mx[k] - lr*m\n",
    "    return mx"
   ]
  },
  {
   "cell_type": "code",
   "execution_count": 48,
   "metadata": {},
   "outputs": [],
   "source": [
    "def gd(data,lr,it):\n",
    "    mx = [0 for x in range(5)]\n",
    "    for i in range(it):\n",
    "        mx = stg(data,lr,mx)\n",
    "        print(\"cost\" , cost(data,mx))\n",
    "    return mx"
   ]
  },
  {
   "cell_type": "code",
   "execution_count": 64,
   "metadata": {},
   "outputs": [],
   "source": [
    "def run():\n",
    "    lr = 0.0001\n",
    "    it = 30\n",
    "    mx = gd(data2,lr,it)\n",
    "    return mx"
   ]
  },
  {
   "cell_type": "code",
   "execution_count": 65,
   "metadata": {},
   "outputs": [
    {
     "name": "stdout",
     "output_type": "stream",
     "text": [
      "cost 281435.638487624\n",
      "cost 6366.2659619461465\n",
      "cost 31960.602913739032\n",
      "cost 2048.550786466235\n",
      "cost 4335.180347859513\n",
      "cost 4087.151723060244\n",
      "cost 3444.3972683364236\n",
      "cost 4254.213924757235\n",
      "cost 3273.0092483349645\n",
      "cost 3116.942239734524\n",
      "cost 2298.170013045393\n",
      "cost 1868.457690359233\n",
      "cost 1327.0187765711064\n",
      "cost 984.7635503443578\n",
      "cost 679.7379924231942\n",
      "cost 480.18166101514595\n",
      "cost 328.69708526856726\n",
      "cost 230.80056866098624\n",
      "cost 163.39948375880965\n",
      "cost 121.24477021694075\n",
      "cost 94.35699696005464\n",
      "cost 78.36032068560569\n",
      "cost 68.94683819601583\n",
      "cost 63.78692947872914\n",
      "cost 61.11102216259538\n",
      "cost 59.89915782282544\n",
      "cost 59.481565542869376\n",
      "cost 59.47372938144719\n",
      "cost 59.65103108143609\n",
      "cost 59.89179827082693\n"
     ]
    }
   ],
   "source": [
    "mx = run()"
   ]
  },
  {
   "cell_type": "code",
   "execution_count": 79,
   "metadata": {},
   "outputs": [
    {
     "data": {
      "text/plain": [
       "array([[-1.02742256, -0.96138014,  0.72378329,  1.20446479,  0.        ],\n",
       "       [-1.01136848, -1.25783726, -0.09942787,  0.57331371,  0.        ],\n",
       "       [ 0.97398614,  1.62360048, -1.27807846,  0.39005424,  0.        ],\n",
       "       ...,\n",
       "       [ 0.62748557,  0.93814142, -0.69965107,  1.27284519,  0.        ],\n",
       "       [ 0.51644485, -0.90099073,  0.11685368, -0.54470581,  0.        ],\n",
       "       [ 0.28499852,  0.46914312,  0.95515424,  0.80580707,  0.        ]])"
      ]
     },
     "execution_count": 79,
     "metadata": {},
     "output_type": "execute_result"
    }
   ],
   "source": [
    "data4 = np.genfromtxt(\"Desktop/0000000000002419_test_ccpp_x_test.csv\", delimiter = ',')\n",
    "data4.shape\n",
    "b = np.ones((2392,1))\n",
    "data5 = np.hstack((data4,b))\n",
    "sc.transform(data5)\n"
   ]
  },
  {
   "cell_type": "code",
   "execution_count": 74,
   "metadata": {},
   "outputs": [],
   "source": [
    "def pred(data5,mx):\n",
    "    y = [0 for x in range(len(data5))]\n",
    "    for i in range((len(data5))):\n",
    "        sum = 0\n",
    "        for j in range(len(mx)):\n",
    "            sum += mx[j] * data5[i,j]\n",
    "        y[i] = sum\n",
    "    return y"
   ]
  },
  {
   "cell_type": "code",
   "execution_count": 80,
   "metadata": {},
   "outputs": [],
   "source": [
    "#y = pred(data5,mx)\n",
    "y = alg1.predict(data5)\n",
    "np.savetxt('gdsub2.csv',y,delimiter = ',')"
   ]
  }
 ],
 "metadata": {
  "kernelspec": {
   "display_name": "Python 3",
   "language": "python",
   "name": "python3"
  },
  "language_info": {
   "codemirror_mode": {
    "name": "ipython",
    "version": 3
   },
   "file_extension": ".py",
   "mimetype": "text/x-python",
   "name": "python",
   "nbconvert_exporter": "python",
   "pygments_lexer": "ipython3",
   "version": "3.6.5"
  }
 },
 "nbformat": 4,
 "nbformat_minor": 2
}
