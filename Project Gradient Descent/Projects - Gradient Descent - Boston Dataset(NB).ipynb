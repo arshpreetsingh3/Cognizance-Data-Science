{
 "cells": [
  {
   "cell_type": "code",
   "execution_count": 195,
   "metadata": {},
   "outputs": [],
   "source": [
    "import numpy as np\n",
    "from sklearn import preprocessing"
   ]
  },
  {
   "cell_type": "code",
   "execution_count": 204,
   "metadata": {},
   "outputs": [
    {
     "data": {
      "text/plain": [
       "array([[-0.40784991, -0.48772236, -1.2660231 , ...,  0.41057102,\n",
       "        -1.09799011, 37.9       ],\n",
       "       [-0.40737368, -0.48772236,  0.24705682, ...,  0.29116915,\n",
       "        -0.52047412, 21.4       ],\n",
       "       [ 0.1251786 , -0.48772236,  1.01599907, ..., -3.79579542,\n",
       "         0.89107588, 12.7       ],\n",
       "       ...,\n",
       "       [-0.40831101, -0.48772236,  0.24705682, ...,  0.33206621,\n",
       "        -0.33404299, 20.8       ],\n",
       "       [-0.41061997, -0.48772236, -1.15221381, ...,  0.203235  ,\n",
       "        -0.74475218, 22.6       ],\n",
       "       [ 0.34290895, -0.48772236,  1.01599907, ...,  0.38787479,\n",
       "        -1.35871335, 50.        ]])"
      ]
     },
     "execution_count": 204,
     "metadata": {},
     "output_type": "execute_result"
    }
   ],
   "source": [
    "boston = np.genfromtxt(r\"C:\\Users\\nisha\\Downloads\\bp.csv\", delimiter = ',')\n",
    "scaler = preprocessing.StandardScaler()\n",
    "boston"
   ]
  },
  {
   "cell_type": "code",
   "execution_count": 205,
   "metadata": {},
   "outputs": [
    {
     "data": {
      "text/plain": [
       "(379, 14)"
      ]
     },
     "execution_count": 205,
     "metadata": {},
     "output_type": "execute_result"
    }
   ],
   "source": [
    "boston.shape"
   ]
  },
  {
   "cell_type": "code",
   "execution_count": 207,
   "metadata": {},
   "outputs": [
    {
     "data": {
      "text/plain": [
       "((379, 14), (379,))"
      ]
     },
     "execution_count": 207,
     "metadata": {},
     "output_type": "execute_result"
    }
   ],
   "source": [
    "X = boston[:, :13]\n",
    "Y = boston[:, 13]\n",
    "X = np.insert(X, 13, 1, axis = 1)\n",
    "scaler.fit(X)\n",
    "scaler.transform(X)\n",
    "X.shape, Y.shape"
   ]
  },
  {
   "cell_type": "code",
   "execution_count": 208,
   "metadata": {},
   "outputs": [],
   "source": [
    "def step_generic_gd(X, Y, l_rate, Z):\n",
    "    M = np.zeros(14)\n",
    "    N = np.zeros(14)\n",
    "    k = 0\n",
    "    for i in range(379):\n",
    "        temp = Y[i]\n",
    "        for j in range(14):\n",
    "            temp -= (X[i][j] * Z[j])\n",
    "            M[j] += (-2 / 379) * temp * X[i][j]                \n",
    "    N = Z - l_rate * M\n",
    "    return N"
   ]
  },
  {
   "cell_type": "code",
   "execution_count": 209,
   "metadata": {},
   "outputs": [],
   "source": [
    "def generic_gd(X, Y, num_iterations, l_rate):\n",
    "    Z = np.zeros(14)\n",
    "    for i in range(num_iterations):\n",
    "        Z = step_generic_gd(X, Y, l_rate, Z)\n",
    "        #print(Z)\n",
    "        #print(i, \"Cost\", cost(X, Y, Z))\n",
    "    return Z        "
   ]
  },
  {
   "cell_type": "code",
   "execution_count": 210,
   "metadata": {},
   "outputs": [],
   "source": [
    "def cost(X, Y, M):\n",
    "    total_cost = 0\n",
    "    temp = 0\n",
    "    for i in range(379):\n",
    "        temp = 0\n",
    "        for j in range(14):\n",
    "            temp += X[i][j] * M[j]\n",
    "        total_cost += (1 / 379) * (Y[i] - temp)**2\n",
    "    return total_cost        "
   ]
  },
  {
   "cell_type": "code",
   "execution_count": 225,
   "metadata": {},
   "outputs": [],
   "source": [
    "M = np.zeros(14)\n",
    "def run():\n",
    "    num_iterations = 1000\n",
    "    l_rate = 0.5    \n",
    "    M = generic_gd(X, Y, num_iterations, l_rate)\n",
    "    return M"
   ]
  },
  {
   "cell_type": "code",
   "execution_count": 226,
   "metadata": {},
   "outputs": [
    {
     "data": {
      "text/plain": [
       "array([-2.85435639,  2.41324302, -1.26022825,  2.21820626, -0.10412487,\n",
       "        5.06897619,  1.77965199, -0.93341882,  0.68361878, -0.37525592,\n",
       "       -0.69319389,  0.61102157, -1.42194956, 22.44716749])"
      ]
     },
     "execution_count": 226,
     "metadata": {},
     "output_type": "execute_result"
    }
   ],
   "source": [
    "run()"
   ]
  },
  {
   "cell_type": "code",
   "execution_count": 227,
   "metadata": {},
   "outputs": [
    {
     "data": {
      "text/plain": [
       "(127, 14)"
      ]
     },
     "execution_count": 227,
     "metadata": {},
     "output_type": "execute_result"
    }
   ],
   "source": [
    "test = np.genfromtxt(r\"C:\\Users\\nisha\\Downloads\\test.csv\", delimiter = ',')\n",
    "test = np.insert(test, 13, 1, axis = 1)\n",
    "scaler.transform(test)\n",
    "test.shape"
   ]
  },
  {
   "cell_type": "code",
   "execution_count": 228,
   "metadata": {},
   "outputs": [
    {
     "data": {
      "text/plain": [
       "array([ 3.37285835, 23.07770084, 21.4724155 , 20.31191539, 20.32656663,\n",
       "        7.72617042, 30.12006508, 23.06753199, 17.69294504, 18.65668985,\n",
       "       20.58444622, 20.02300791, 18.21225362, 19.62173975, 48.85319389,\n",
       "       21.61021059, 17.79851812, 25.36406403, 18.87675388, 31.44511704,\n",
       "       22.21247308, 19.93765402, 29.79523533, 38.99722113, 33.43570761,\n",
       "       12.86670335, 20.1544118 , 29.61633019, 29.46762032, 39.18424699,\n",
       "       19.43632403, 18.39530876, 24.16618705, 24.75085406, 14.19281786,\n",
       "       27.08119792, 23.94301415, 21.90854047, 23.57270336, 12.92129693,\n",
       "       -0.78886555, 25.68468049, 28.97745656, 22.51002821, 17.66428999,\n",
       "       -1.64627959, 43.78491825, 26.03160057, 37.02568006, 19.46610189,\n",
       "       15.22456664, 45.05054832, 20.31042839, 17.49293118, 19.41873595,\n",
       "       19.23312377, 17.90672979, 18.4919584 , 15.83481635, 18.38381698,\n",
       "        6.2184382 , 27.25701213, 23.10094098, 22.33883594, 16.00146048,\n",
       "       10.65837376, 35.76746039, 19.81098531, 27.39477835, 19.01744985,\n",
       "       26.39624174, 23.00799228, 17.60706115,  0.72969254, 40.59234954,\n",
       "       22.87960696, 27.44640929, 22.14507331, 15.58055718, 36.64036112,\n",
       "       19.32570575, 25.34725969, 17.75080963, 13.72800949, 18.10826648,\n",
       "       28.29969599, 29.61847645,  5.03840119, 18.31791587, 19.09969038,\n",
       "       16.00694467, 20.89917744, 22.12336014, 19.55360357, 17.95548942,\n",
       "       26.02386402, 43.95868598, 17.87954144, 34.79469819, 25.96192258,\n",
       "       22.50802853, 22.63006722, 30.24288236, 25.29421334, 20.39178583,\n",
       "       22.17548999, 18.43984905, 40.2306987 , 21.44882745, 15.41476078,\n",
       "       28.38965764, -2.77887194, 14.35636341, 11.47184901, 36.03163626,\n",
       "       22.10332328, 25.15861051, 20.92067083, 17.81144979, 16.76432108,\n",
       "       18.33427892, 29.80360613, 16.88260581, 18.3509021 , 21.60176245,\n",
       "       21.81166558, 12.78643767])"
      ]
     },
     "execution_count": 228,
     "metadata": {},
     "output_type": "execute_result"
    }
   ],
   "source": [
    "M = run()\n",
    "Y1 = np.zeros(127)\n",
    "for i in range(127):\n",
    "    for j in range(14):\n",
    "        Y1[i] += test[i][j] * M[j]\n",
    "Y1"
   ]
  },
  {
   "cell_type": "code",
   "execution_count": 229,
   "metadata": {},
   "outputs": [],
   "source": [
    "np.savetxt(\"gd_boston4.csv\", Y1, delimiter=\",\", fmt='%1.9f')"
   ]
  },
  {
   "cell_type": "code",
   "execution_count": null,
   "metadata": {},
   "outputs": [],
   "source": []
  },
  {
   "cell_type": "code",
   "execution_count": null,
   "metadata": {},
   "outputs": [],
   "source": []
  }
 ],
 "metadata": {
  "kernelspec": {
   "display_name": "Python 3",
   "language": "python",
   "name": "python3"
  },
  "language_info": {
   "codemirror_mode": {
    "name": "ipython",
    "version": 3
   },
   "file_extension": ".py",
   "mimetype": "text/x-python",
   "name": "python",
   "nbconvert_exporter": "python",
   "pygments_lexer": "ipython3",
   "version": "3.6.5"
  }
 },
 "nbformat": 4,
 "nbformat_minor": 2
}
