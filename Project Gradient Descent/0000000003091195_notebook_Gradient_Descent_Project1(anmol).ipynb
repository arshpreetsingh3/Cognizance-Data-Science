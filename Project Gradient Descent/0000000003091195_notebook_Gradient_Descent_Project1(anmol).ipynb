{
 "cells": [
  {
   "cell_type": "code",
   "execution_count": 1,
   "metadata": {
    "collapsed": true
   },
   "outputs": [],
   "source": [
    "import numpy as np\n",
    "import pandas as pd"
   ]
  },
  {
   "cell_type": "code",
   "execution_count": 2,
   "metadata": {
    "collapsed": true
   },
   "outputs": [],
   "source": [
    "def cost(data,Y,m):\n",
    "    Cost=0\n",
    "    M=len(data)\n",
    "    Cost=(1/M)*sum((data.dot(m)-Y.reshape(379,1))**2)\n",
    "    return Cost"
   ]
  },
  {
   "cell_type": "code",
   "execution_count": 4,
   "metadata": {
    "collapsed": true
   },
   "outputs": [],
   "source": [
    "def step_gradient(data,Y,lRate,m):\n",
    "    M=len(data)\n",
    "    N=data.shape[1]\n",
    "    sum_=np.zeros((N,1)) \n",
    "    m=m-(-2/M)*lRate*(data.T).dot(Y.reshape(379,1)-data.dot(m))   \n",
    "    return m"
   ]
  },
  {
   "cell_type": "code",
   "execution_count": 5,
   "metadata": {
    "collapsed": true
   },
   "outputs": [],
   "source": [
    "def gradient_descent(data,Y,lRate,numIter):\n",
    "    #there is no c here\n",
    "    N=data.shape[1]\n",
    "    m=np.zeros((N,1))\n",
    "    \n",
    "    for i in range(numIter):        \n",
    "        m=step_gradient(data,Y,lRate,m) \n",
    "    return m"
   ]
  },
  {
   "cell_type": "code",
   "execution_count": 16,
   "metadata": {},
   "outputs": [],
   "source": [
    "def run():\n",
    "    data=np.loadtxt('Datasets/GD_train.csv',delimiter=',')\n",
    "    data_test=np.loadtxt('Datasets/GD_test.csv',delimiter=',')\n",
    "    X=data[:,0:13]\n",
    "    Y=data[:,13]\n",
    "    myData=np.c_[np.ones(len(X)),X ]\n",
    "    data_test=np.c_[np.ones(len(data_test)),data_test ] \n",
    "    \n",
    "    \n",
    "    \n",
    "    learningRate=0.0001\n",
    "    numIterations=10000000\n",
    "    m=gradient_descent(myData,Y,learningRate,numIterations)\n",
    "    print(m)\n",
    "    \n",
    "    y_pred=data_test.dot(m)\n",
    "    print(y_pred.shape)\n",
    "    np.savetxt('output.csv',y_pred,fmt='%.5f')"
   ]
  },
  {
   "cell_type": "code",
   "execution_count": 17,
   "metadata": {},
   "outputs": [
    {
     "name": "stdout",
     "output_type": "stream",
     "text": [
      "[[  2.26772333e+01]\n",
      " [ -9.38080766e-01]\n",
      " [  7.41034435e-01]\n",
      " [  1.16915696e-02]\n",
      " [  7.80873721e-01]\n",
      " [ -2.17455750e+00]\n",
      " [  2.35429653e+00]\n",
      " [  1.23338097e-01]\n",
      " [ -2.95232355e+00]\n",
      " [  2.53296817e+00]\n",
      " [ -1.70290370e+00]\n",
      " [ -2.25151962e+00]\n",
      " [  5.88354286e-01]\n",
      " [ -4.26368155e+00]]\n",
      "(127, 1)\n"
     ]
    }
   ],
   "source": [
    "run()"
   ]
  },
  {
   "cell_type": "code",
   "execution_count": null,
   "metadata": {
    "collapsed": true
   },
   "outputs": [],
   "source": []
  }
 ],
 "metadata": {
  "anaconda-cloud": {},
  "kernelspec": {
   "display_name": "Python 3",
   "language": "python",
   "name": "python3"
  },
  "language_info": {
   "codemirror_mode": {
    "name": "ipython",
    "version": 3
   },
   "file_extension": ".py",
   "mimetype": "text/x-python",
   "name": "python",
   "nbconvert_exporter": "python",
   "pygments_lexer": "ipython3",
   "version": "3.6.5"
  }
 },
 "nbformat": 4,
 "nbformat_minor": 1
}
