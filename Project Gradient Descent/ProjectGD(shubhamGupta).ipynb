{
 "cells": [
  {
   "cell_type": "code",
   "execution_count": 1,
   "metadata": {},
   "outputs": [],
   "source": [
    "import numpy as np"
   ]
  },
  {
   "cell_type": "code",
   "execution_count": 2,
   "metadata": {},
   "outputs": [],
   "source": [
    "data1=np.loadtxt(\"0000000000002417_training_boston_x_y_train.csv\",delimiter=\",\")\n",
    "data2=np.loadtxt(\"0000000000002417_test_boston_x_test.csv\",delimiter=\",\")\n"
   ]
  },
  {
   "cell_type": "code",
   "execution_count": 10,
   "metadata": {},
   "outputs": [
    {
     "data": {
      "text/plain": [
       "array([[-0.40784991, -0.48772236, -1.2660231 , ...,  0.41057102,\n",
       "        -1.09799011, 37.9       ],\n",
       "       [-0.40737368, -0.48772236,  0.24705682, ...,  0.29116915,\n",
       "        -0.52047412, 21.4       ],\n",
       "       [ 0.1251786 , -0.48772236,  1.01599907, ..., -3.79579542,\n",
       "         0.89107588, 12.7       ],\n",
       "       ...,\n",
       "       [-0.40831101, -0.48772236,  0.24705682, ...,  0.33206621,\n",
       "        -0.33404299, 20.8       ],\n",
       "       [-0.41061997, -0.48772236, -1.15221381, ...,  0.203235  ,\n",
       "        -0.74475218, 22.6       ],\n",
       "       [ 0.34290895, -0.48772236,  1.01599907, ...,  0.38787479,\n",
       "        -1.35871335, 50.        ]])"
      ]
     },
     "execution_count": 10,
     "metadata": {},
     "output_type": "execute_result"
    }
   ],
   "source": [
    "data1"
   ]
  },
  {
   "cell_type": "code",
   "execution_count": 4,
   "metadata": {},
   "outputs": [],
   "source": [
    "X_train=data1[:,0:13]\n",
    "Y_train=data1[:,13]\n",
    "X_test=data2"
   ]
  },
  {
   "cell_type": "code",
   "execution_count": 11,
   "metadata": {},
   "outputs": [
    {
     "data": {
      "text/plain": [
       "(379,)"
      ]
     },
     "execution_count": 11,
     "metadata": {},
     "output_type": "execute_result"
    }
   ],
   "source": [
    "Y_train.shape"
   ]
  },
  {
   "cell_type": "code",
   "execution_count": 6,
   "metadata": {},
   "outputs": [
    {
     "data": {
      "text/plain": [
       "(379, 13)"
      ]
     },
     "execution_count": 6,
     "metadata": {},
     "output_type": "execute_result"
    }
   ],
   "source": [
    "X_train.shape"
   ]
  },
  {
   "cell_type": "code",
   "execution_count": 13,
   "metadata": {},
   "outputs": [
    {
     "data": {
      "text/plain": [
       "GradientBoostingRegressor(alpha=0.9, criterion='friedman_mse', init=None,\n",
       "             learning_rate=0.01, loss='ls', max_depth=3, max_features=None,\n",
       "             max_leaf_nodes=None, min_impurity_decrease=0.0,\n",
       "             min_impurity_split=None, min_samples_leaf=1,\n",
       "             min_samples_split=2, min_weight_fraction_leaf=0.0,\n",
       "             n_estimators=1000, presort='auto', random_state=None,\n",
       "             subsample=1.0, verbose=0, warm_start=False)"
      ]
     },
     "execution_count": 13,
     "metadata": {},
     "output_type": "execute_result"
    }
   ],
   "source": [
    "from sklearn.ensemble import GradientBoostingRegressor\n",
    "alg1=GradientBoostingRegressor(learning_rate=0.01,n_estimators=1000)\n",
    "alg1.fit(X_train,Y_train)\n"
   ]
  },
  {
   "cell_type": "code",
   "execution_count": 14,
   "metadata": {},
   "outputs": [
    {
     "data": {
      "text/plain": [
       "array([12.38961203, 26.79598642, 17.08084865, 22.15104242, 20.91187577,\n",
       "       12.24030941, 28.58325969, 24.65829294, 18.52443443, 22.84069161,\n",
       "       23.07283637, 17.97289175, 19.73458989, 20.83166703, 51.34698355,\n",
       "       21.13285453, 23.57981903, 22.98689446, 19.01688913, 30.84443328,\n",
       "       21.0326436 , 21.30303574, 36.99051282, 31.40290386, 33.29957161,\n",
       "       16.37898087, 20.43234885, 30.40167472, 20.36205153, 28.97135529,\n",
       "       17.36804951, 24.71410985, 21.30734302, 22.79577364,  8.73959781,\n",
       "       23.55396131, 22.76281152, 20.14730491, 22.77935395,  8.3152626 ,\n",
       "       14.56973712, 23.26296474, 24.74696243, 19.36083714, 21.25473677,\n",
       "        9.44483339, 41.82249542, 24.39802441, 33.90609164, 13.02689411,\n",
       "       13.89943312, 45.4369019 , 14.17679658, 20.70620528, 16.43395854,\n",
       "       19.96057672, 19.25131379, 22.10927762, 15.16271287, 15.99973385,\n",
       "       13.28627415, 27.33606251, 22.35435915, 22.91732842, 14.71354365,\n",
       "       16.3840487 , 33.40725915, 12.73984663, 20.16869617, 21.16707317,\n",
       "       26.8402347 , 22.02909673, 17.24761242,  8.23177552, 41.48257733,\n",
       "       21.92344602, 24.94428577, 24.49199478, 11.20856595, 32.69213983,\n",
       "       19.97702143, 20.17818032, 20.64663813, 17.81869617, 16.15354501,\n",
       "       36.52182393, 26.89273745,  8.86222829, 21.29665775, 16.47038871,\n",
       "       21.50954459, 19.84678405, 19.15478039, 10.40510582, 20.52476672,\n",
       "       24.23767549, 46.19720977, 19.1138543 , 35.28859823, 23.0156029 ,\n",
       "       23.18046512, 20.97964526, 21.32333709, 25.15645853, 13.34168402,\n",
       "       24.31746428, 21.42968367, 44.88280197, 22.11910442, 14.10784037,\n",
       "       22.17618157, 20.81512829, 17.6590791 , 17.40185615, 43.46358543,\n",
       "       17.55489556, 20.9933354 , 24.1596716 , 21.71635406, 18.47800801,\n",
       "       13.81431865, 33.45498397, 22.61369725, 21.56844031, 22.33133125,\n",
       "       20.13547843, 16.184853  ])"
      ]
     },
     "execution_count": 14,
     "metadata": {},
     "output_type": "execute_result"
    }
   ],
   "source": [
    "y_test_pred=alg1.predict(X_test)\n",
    "y_test_pred"
   ]
  },
  {
   "cell_type": "code",
   "execution_count": 16,
   "metadata": {},
   "outputs": [],
   "source": [
    "np.savetxt('predg.csv',y_test_pred,header=\"none\",fmt='%0.5f')"
   ]
  }
 ],
 "metadata": {
  "kernelspec": {
   "display_name": "Python 3",
   "language": "python",
   "name": "python3"
  },
  "language_info": {
   "codemirror_mode": {
    "name": "ipython",
    "version": 3
   },
   "file_extension": ".py",
   "mimetype": "text/x-python",
   "name": "python",
   "nbconvert_exporter": "python",
   "pygments_lexer": "ipython3",
   "version": "3.6.5"
  }
 },
 "nbformat": 4,
 "nbformat_minor": 2
}
