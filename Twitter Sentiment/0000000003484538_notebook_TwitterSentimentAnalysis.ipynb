{
 "cells": [
  {
   "cell_type": "code",
   "execution_count": 1,
   "metadata": {},
   "outputs": [
    {
     "data": {
      "text/plain": [
       "'3.6.6 |Anaconda custom (64-bit)| (default, Oct  9 2018, 12:34:16) \\n[GCC 7.3.0]'"
      ]
     },
     "execution_count": 1,
     "metadata": {},
     "output_type": "execute_result"
    }
   ],
   "source": [
    "import sys\n",
    "sys.version"
   ]
  },
  {
   "cell_type": "code",
   "execution_count": 2,
   "metadata": {},
   "outputs": [
    {
     "name": "stdout",
     "output_type": "stream",
     "text": [
      "Python 3.6.6 :: Anaconda custom (64-bit)\r\n"
     ]
    }
   ],
   "source": [
    "!python -V"
   ]
  },
  {
   "cell_type": "code",
   "execution_count": 3,
   "metadata": {},
   "outputs": [],
   "source": [
    "import nltk\n",
    "import pandas as pd"
   ]
  },
  {
   "cell_type": "code",
   "execution_count": 4,
   "metadata": {},
   "outputs": [],
   "source": [
    "training_data=pd.read_csv('training_twitter_x_y_train.csv')\n",
    "x_test=pd.read_csv('test_twitter_x_test.csv')"
   ]
  },
  {
   "cell_type": "code",
   "execution_count": 5,
   "metadata": {},
   "outputs": [
    {
     "data": {
      "text/plain": [
       "(10980, 12)"
      ]
     },
     "execution_count": 5,
     "metadata": {},
     "output_type": "execute_result"
    }
   ],
   "source": [
    "training_data.shape"
   ]
  },
  {
   "cell_type": "code",
   "execution_count": 164,
   "metadata": {},
   "outputs": [],
   "source": [
    "#training_data"
   ]
  },
  {
   "cell_type": "code",
   "execution_count": 6,
   "metadata": {},
   "outputs": [
    {
     "data": {
      "text/plain": [
       "tweet_id                      0\n",
       "airline_sentiment             0\n",
       "airline                       0\n",
       "airline_sentiment_gold    10949\n",
       "name                          0\n",
       "negativereason_gold       10956\n",
       "retweet_count                 0\n",
       "text                          0\n",
       "tweet_coord               10204\n",
       "tweet_created                 0\n",
       "tweet_location             3550\n",
       "user_timezone              3577\n",
       "dtype: int64"
      ]
     },
     "execution_count": 6,
     "metadata": {},
     "output_type": "execute_result"
    }
   ],
   "source": [
    "training_data.isnull().sum()"
   ]
  },
  {
   "cell_type": "code",
   "execution_count": 7,
   "metadata": {},
   "outputs": [
    {
     "data": {
      "text/plain": [
       "negative    6851\n",
       "neutral     2327\n",
       "positive    1802\n",
       "Name: airline_sentiment, dtype: int64"
      ]
     },
     "execution_count": 7,
     "metadata": {},
     "output_type": "execute_result"
    }
   ],
   "source": [
    "training_data.airline_sentiment.value_counts()"
   ]
  },
  {
   "cell_type": "code",
   "execution_count": 8,
   "metadata": {},
   "outputs": [
    {
     "data": {
      "text/plain": [
       "'@USAirways I can legitimately say that I would have rather driven cross country than flown on US Airways.'"
      ]
     },
     "execution_count": 8,
     "metadata": {},
     "output_type": "execute_result"
    }
   ],
   "source": [
    "sentiments=training_data.airline_sentiment\n",
    "text=training_data.text\n",
    "x_test=x_test.text\n",
    "\n",
    "documents=[]\n",
    "\n",
    "for i in range(len(sentiments)):\n",
    "    documents.append((text[i],sentiments[i]))\n",
    "documents[4]\n",
    "x_test[3]"
   ]
  },
  {
   "cell_type": "code",
   "execution_count": 9,
   "metadata": {},
   "outputs": [],
   "source": [
    "from nltk.corpus import stopwords\n",
    "from string import punctuation\n",
    "stop_words=list(punctuation)+stopwords.words('english')"
   ]
  },
  {
   "cell_type": "code",
   "execution_count": 10,
   "metadata": {},
   "outputs": [
    {
     "data": {
      "text/plain": [
       "211"
      ]
     },
     "execution_count": 10,
     "metadata": {},
     "output_type": "execute_result"
    }
   ],
   "source": [
    "len(stop_words)"
   ]
  },
  {
   "cell_type": "code",
   "execution_count": 11,
   "metadata": {},
   "outputs": [],
   "source": [
    "from nltk import pos_tag\n",
    "from nltk.stem import WordNetLemmatizer\n",
    "lemmatizer=WordNetLemmatizer()"
   ]
  },
  {
   "cell_type": "code",
   "execution_count": 12,
   "metadata": {},
   "outputs": [],
   "source": [
    "def simplify_pos_tag(tag):\n",
    "    if tag.startswith('N'):\n",
    "        return 'n'\n",
    "    if tag.startswith('J'):\n",
    "        return 'a'\n",
    "    if tag.startswith('R'):\n",
    "        return 'r'\n",
    "    if tag.startswith('V'):\n",
    "        return 'v'\n",
    "    return 'n'"
   ]
  },
  {
   "cell_type": "code",
   "execution_count": 13,
   "metadata": {},
   "outputs": [],
   "source": [
    "import re # Regular expression\n",
    "\n",
    "def hasNumbers(text):\n",
    "    return bool(re.search('[0-9]+',text))\n",
    "\n",
    "def clean_text(text):\n",
    "    result=[]\n",
    "    for word in text.split():\n",
    "        word=word.strip(punctuation)\n",
    "        if ((word.lower() not in stop_words) and (not hasNumbers(word.lower())) and (len(word.lower())>3)):\n",
    "            posTag=pos_tag([word.lower()])[0][1]\n",
    "            lemmatized_word=lemmatizer.lemmatize(word.lower(),simplify_pos_tag(posTag))\n",
    "            result.append(lemmatized_word)\n",
    "    return result"
   ]
  },
  {
   "cell_type": "code",
   "execution_count": 14,
   "metadata": {},
   "outputs": [],
   "source": [
    "documents_modified=[(clean_text(text),sentiment) for text,sentiment in documents]\n",
    "x_test=[clean_text(text) for text in x_test]"
   ]
  },
  {
   "cell_type": "code",
   "execution_count": 15,
   "metadata": {},
   "outputs": [
    {
     "data": {
      "text/plain": [
       "'words'"
      ]
     },
     "execution_count": 15,
     "metadata": {},
     "output_type": "execute_result"
    }
   ],
   "source": [
    "pos_tag([\"words\"])[0][1]\n",
    "lemmatizer.lemmatize('words','a')"
   ]
  },
  {
   "cell_type": "code",
   "execution_count": 16,
   "metadata": {},
   "outputs": [
    {
     "name": "stdout",
     "output_type": "stream",
     "text": [
      "(['united', 'frankly', 'bad', 'customer', 'service', 'ever', 'problem', 'happen', 'deal', 'defines', 'company', 'never', 'united'], 'negative')\n",
      "('@united frankly worse customer service ever. Problems will happen, how you deal defines a company. Never again United.', 'negative')\n"
     ]
    }
   ],
   "source": [
    "print(documents_modified[8])\n",
    "print(documents[8])"
   ]
  },
  {
   "cell_type": "code",
   "execution_count": 17,
   "metadata": {},
   "outputs": [
    {
     "name": "stdout",
     "output_type": "stream",
     "text": [
      "['usairways', 'legitimately', 'would', 'rather', 'driven', 'cross', 'country', 'flown', 'airway']\n"
     ]
    }
   ],
   "source": [
    "print(x_test[3])"
   ]
  },
  {
   "cell_type": "code",
   "execution_count": 18,
   "metadata": {},
   "outputs": [
    {
     "data": {
      "text/plain": [
       "'min'"
      ]
     },
     "execution_count": 18,
     "metadata": {},
     "output_type": "execute_result"
    }
   ],
   "source": [
    "s='min'\n",
    "s=s.strip(punctuation)\n",
    "s"
   ]
  },
  {
   "cell_type": "code",
   "execution_count": 19,
   "metadata": {
    "scrolled": true
   },
   "outputs": [
    {
     "data": {
      "text/plain": [
       "True"
      ]
     },
     "execution_count": 19,
     "metadata": {},
     "output_type": "execute_result"
    }
   ],
   "source": [
    "hasNumbers('a0:')"
   ]
  },
  {
   "cell_type": "code",
   "execution_count": 20,
   "metadata": {},
   "outputs": [],
   "source": [
    "import numpy as np\n",
    "# Coverting into X and Y\n",
    "Y_train = [sentiment for text,sentiment in documents_modified]\n",
    "#Y_train = np.array(Y_train).reshape(-1,1)\n",
    "X_train = [\" \".join(text) for text,sentiment in documents_modified]\n",
    "X_test = [\" \".join(text) for text in x_test]"
   ]
  },
  {
   "cell_type": "code",
   "execution_count": 21,
   "metadata": {},
   "outputs": [],
   "source": [
    "from sklearn.model_selection import train_test_split\n",
    "from sklearn.linear_model import LogisticRegression\n",
    "from sklearn.neighbors import KNeighborsClassifier\n",
    "from sklearn.ensemble import RandomForestClassifier\n",
    "from sklearn.svm import SVC\n",
    "from sklearn.naive_bayes import MultinomialNB\n",
    "from sklearn.model_selection import KFold,cross_val_score"
   ]
  },
  {
   "cell_type": "code",
   "execution_count": 23,
   "metadata": {
    "scrolled": false
   },
   "outputs": [
    {
     "name": "stdout",
     "output_type": "stream",
     "text": [
      "0.7588342440801459 0\n",
      "0.7598360655737705 0.7588342440801459\n",
      "0.7595628415300546 0.7598360655737705\n",
      "0.7571948998178506 0.7598360655737705\n",
      "0.7607468123861566 0.7598360655737705\n",
      "0.7579234972677595 0.7607468123861566\n",
      "0.7542805100182151 0.7607468123861566\n",
      "0.7603825136612021 0.7607468123861566\n",
      "0.7577413479052824 0.7607468123861566\n",
      "0.7571948998178507 0.7607468123861566\n"
     ]
    },
    {
     "data": {
      "image/png": "[encoded data removed]",
      "text/plain": [
       "<Figure size 432x288 with 1 Axes>"
      ]
     },
     "metadata": {
      "needs_background": "light"
     },
     "output_type": "display_data"
    },
    {
     "name": "stdout",
     "output_type": "stream",
     "text": [
      "None\n",
      "0.5\n"
     ]
    }
   ],
   "source": [
    "from sklearn.feature_extraction.text import CountVectorizer\n",
    "import matplotlib.pyplot as plt\n",
    "x_axis=[]\n",
    "y_axis=[]\n",
    "max_score=0\n",
    "k=0\n",
    "#    for i in range(10,5000):\n",
    "#        print(i)\n",
    "#        cv=CountVectorizer(max_features=i) # Sparse matrix will have i features\n",
    "#        X_train_features=cv.fit_transform(X_train) # x_train_features is a sparse matrix \n",
    "#        clf=MultinomialNB()\n",
    "#        clf.fit(X_train_features,Y_train)  \n",
    "#        score=cross_val_score(clf,X_train_features,Y_train,cv=KFold(n_splits=5,shuffle=True,random_state=0))\n",
    "#        x_axis.append(i)\n",
    "#        y_axis.append(score.mean())\n",
    "#plt.plot(x_axis,y_axis)\n",
    "#print(plt.show())\n",
    "cv=CountVectorizer(max_features=2000) # By K-Cross validation, k=2000 is the most optimum value\n",
    "X_train_features = cv.fit_transform(X_train)\n",
    "X_test_features = cv.transform(X_test)\n",
    "l=[0.1,0.2,0.3,0.4,0.5,0.6,0.7,0.8,0.9,1]\n",
    "for i in l:\n",
    "    clf=MultinomialNB(alpha=i)\n",
    "    score=cross_val_score(clf,X_train_features,Y_train,cv=KFold(n_splits=5,shuffle=True))\n",
    "    score=score.mean()\n",
    "    print(score,max_score)\n",
    "    if score>max_score:\n",
    "        max_score=score\n",
    "        k=i\n",
    "    x_axis.append(i)\n",
    "    y_axis.append(score)\n",
    "#plt.axes([0,1,0,1])\n",
    "plt.plot(x_axis,y_axis)\n",
    "print(plt.show())\n",
    "clf=MultinomialNB(alpha=k)   \n",
    "clf.fit(X_train_features,Y_train)\n",
    "clf.predict(X_test_features)\n",
    "print(k)"
   ]
  },
  {
   "cell_type": "code",
   "execution_count": 24,
   "metadata": {},
   "outputs": [
    {
     "data": {
      "text/plain": [
       "matrix([[0, 0, 0, ..., 0, 0, 0],\n",
       "        [0, 0, 0, ..., 0, 0, 0],\n",
       "        [0, 0, 0, ..., 0, 0, 0],\n",
       "        ...,\n",
       "        [0, 0, 0, ..., 0, 0, 0],\n",
       "        [0, 0, 0, ..., 0, 0, 0],\n",
       "        [0, 0, 0, ..., 0, 0, 0]], dtype=int64)"
      ]
     },
     "execution_count": 24,
     "metadata": {},
     "output_type": "execute_result"
    }
   ],
   "source": [
    "X_train_features.todense()"
   ]
  },
  {
   "cell_type": "code",
   "execution_count": 27,
   "metadata": {},
   "outputs": [],
   "source": [
    "#import csv\n",
    "#csv_file=open('twitter_prediction.csv','w') # we want to write to this file\n",
    "#csv_writer=csv.writer(csv_file)\n",
    "#csv_writer.writerow(['predictions']) # Column names\n",
    "#for i in range(X_test_features.shape[0]):\n",
    "#    csv_writer.writerow([clf.predict(X_test_features[i])])"
   ]
  },
  {
   "cell_type": "code",
   "execution_count": 29,
   "metadata": {},
   "outputs": [],
   "source": [
    "Y_pred=clf.predict(X_test_features)"
   ]
  },
  {
   "cell_type": "code",
   "execution_count": 30,
   "metadata": {},
   "outputs": [
    {
     "data": {
      "text/plain": [
       "array(['negative', 'negative', 'negative', ..., 'positive', 'positive',\n",
       "       'neutral'], dtype='<U8')"
      ]
     },
     "execution_count": 30,
     "metadata": {},
     "output_type": "execute_result"
    }
   ],
   "source": [
    "Y_pred"
   ]
  },
  {
   "cell_type": "code",
   "execution_count": 31,
   "metadata": {},
   "outputs": [
    {
     "data": {
      "text/plain": [
       "0.8147540983606557"
      ]
     },
     "execution_count": 31,
     "metadata": {},
     "output_type": "execute_result"
    }
   ],
   "source": [
    "clf.score(X_train_features,Y_train)"
   ]
  },
  {
   "cell_type": "code",
   "execution_count": 32,
   "metadata": {},
   "outputs": [
    {
     "data": {
      "text/plain": [
       "'usairways legitimately would rather driven cross country flown airway'"
      ]
     },
     "execution_count": 32,
     "metadata": {},
     "output_type": "execute_result"
    }
   ],
   "source": [
    "X_test[3]"
   ]
  },
  {
   "cell_type": "code",
   "execution_count": 33,
   "metadata": {},
   "outputs": [],
   "source": [
    "np.savetxt(\"twitter_prediction.csv\",Y_pred,fmt='%s')"
   ]
  },
  {
   "cell_type": "code",
   "execution_count": null,
   "metadata": {},
   "outputs": [],
   "source": []
  },
  {
   "cell_type": "code",
   "execution_count": null,
   "metadata": {},
   "outputs": [],
   "source": []
  }
 ],
 "metadata": {
  "kernelspec": {
   "display_name": "Python 3",
   "language": "python",
   "name": "python3"
  },
  "language_info": {
   "codemirror_mode": {
    "name": "ipython",
    "version": 3
   },
   "file_extension": ".py",
   "mimetype": "text/x-python",
   "name": "python",
   "nbconvert_exporter": "python",
   "pygments_lexer": "ipython3",
   "version": "3.6.7"
  }
 },
 "nbformat": 4,
 "nbformat_minor": 2
}
