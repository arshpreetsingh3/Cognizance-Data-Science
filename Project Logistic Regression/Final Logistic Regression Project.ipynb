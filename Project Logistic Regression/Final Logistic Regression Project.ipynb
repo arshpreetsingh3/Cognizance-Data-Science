{
 "cells": [
  {
   "cell_type": "code",
   "execution_count": 2,
   "metadata": {},
   "outputs": [],
   "source": [
    "import pandas as pd \n",
    "import numpy as np"
   ]
  },
  {
   "cell_type": "code",
   "execution_count": 3,
   "metadata": {},
   "outputs": [],
   "source": [
    "data = pd.read_csv(\"0000000000002429_training_titanic_x_y_train.csv\")\n",
    "test = pd.read_csv(\"0000000000002429_test_titanic_x_test.csv\")\n"
   ]
  },
  {
   "cell_type": "code",
   "execution_count": 4,
   "metadata": {},
   "outputs": [],
   "source": [
    "y = data.copy()"
   ]
  },
  {
   "cell_type": "code",
   "execution_count": 5,
   "metadata": {},
   "outputs": [
    {
     "data": {
      "text/html": [
       "<div>\n",
       "<style scoped>\n",
       "    .dataframe tbody tr th:only-of-type {\n",
       "        vertical-align: middle;\n",
       "    }\n",
       "\n",
       "    .dataframe tbody tr th {\n",
       "        vertical-align: top;\n",
       "    }\n",
       "\n",
       "    .dataframe thead th {\n",
       "        text-align: right;\n",
       "    }\n",
       "</style>\n",
       "<table border=\"1\" class=\"dataframe\">\n",
       "  <thead>\n",
       "    <tr style=\"text-align: right;\">\n",
       "      <th></th>\n",
       "      <th>Pclass</th>\n",
       "      <th>Name</th>\n",
       "      <th>Sex</th>\n",
       "      <th>Age</th>\n",
       "      <th>SibSp</th>\n",
       "      <th>Parch</th>\n",
       "      <th>Ticket</th>\n",
       "      <th>Fare</th>\n",
       "      <th>Cabin</th>\n",
       "      <th>Embarked</th>\n",
       "      <th>Survived</th>\n",
       "    </tr>\n",
       "  </thead>\n",
       "  <tbody>\n",
       "    <tr>\n",
       "      <th>0</th>\n",
       "      <td>2</td>\n",
       "      <td>Weisz, Mrs. Leopold (Mathilde Francoise Pede)</td>\n",
       "      <td>female</td>\n",
       "      <td>29.0</td>\n",
       "      <td>1</td>\n",
       "      <td>0</td>\n",
       "      <td>228414</td>\n",
       "      <td>26.000</td>\n",
       "      <td>NaN</td>\n",
       "      <td>S</td>\n",
       "      <td>1</td>\n",
       "    </tr>\n",
       "    <tr>\n",
       "      <th>1</th>\n",
       "      <td>3</td>\n",
       "      <td>Williams, Mr. Howard Hugh \"Harry\"</td>\n",
       "      <td>male</td>\n",
       "      <td>NaN</td>\n",
       "      <td>0</td>\n",
       "      <td>0</td>\n",
       "      <td>A/5 2466</td>\n",
       "      <td>8.050</td>\n",
       "      <td>NaN</td>\n",
       "      <td>S</td>\n",
       "      <td>0</td>\n",
       "    </tr>\n",
       "    <tr>\n",
       "      <th>2</th>\n",
       "      <td>2</td>\n",
       "      <td>Morley, Mr. Henry Samuel (\"Mr Henry Marshall\")</td>\n",
       "      <td>male</td>\n",
       "      <td>39.0</td>\n",
       "      <td>0</td>\n",
       "      <td>0</td>\n",
       "      <td>250655</td>\n",
       "      <td>26.000</td>\n",
       "      <td>NaN</td>\n",
       "      <td>S</td>\n",
       "      <td>0</td>\n",
       "    </tr>\n",
       "    <tr>\n",
       "      <th>3</th>\n",
       "      <td>3</td>\n",
       "      <td>Palsson, Mrs. Nils (Alma Cornelia Berglund)</td>\n",
       "      <td>female</td>\n",
       "      <td>29.0</td>\n",
       "      <td>0</td>\n",
       "      <td>4</td>\n",
       "      <td>349909</td>\n",
       "      <td>21.075</td>\n",
       "      <td>NaN</td>\n",
       "      <td>S</td>\n",
       "      <td>0</td>\n",
       "    </tr>\n",
       "    <tr>\n",
       "      <th>4</th>\n",
       "      <td>3</td>\n",
       "      <td>Sutehall, Mr. Henry Jr</td>\n",
       "      <td>male</td>\n",
       "      <td>25.0</td>\n",
       "      <td>0</td>\n",
       "      <td>0</td>\n",
       "      <td>SOTON/OQ 392076</td>\n",
       "      <td>7.050</td>\n",
       "      <td>NaN</td>\n",
       "      <td>S</td>\n",
       "      <td>0</td>\n",
       "    </tr>\n",
       "  </tbody>\n",
       "</table>\n",
       "</div>"
      ],
      "text/plain": [
       "   Pclass                                            Name     Sex   Age  \\\n",
       "0       2   Weisz, Mrs. Leopold (Mathilde Francoise Pede)  female  29.0   \n",
       "1       3               Williams, Mr. Howard Hugh \"Harry\"    male   NaN   \n",
       "2       2  Morley, Mr. Henry Samuel (\"Mr Henry Marshall\")    male  39.0   \n",
       "3       3     Palsson, Mrs. Nils (Alma Cornelia Berglund)  female  29.0   \n",
       "4       3                          Sutehall, Mr. Henry Jr    male  25.0   \n",
       "\n",
       "   SibSp  Parch           Ticket    Fare Cabin Embarked  Survived  \n",
       "0      1      0           228414  26.000   NaN        S         1  \n",
       "1      0      0         A/5 2466   8.050   NaN        S         0  \n",
       "2      0      0           250655  26.000   NaN        S         0  \n",
       "3      0      4           349909  21.075   NaN        S         0  \n",
       "4      0      0  SOTON/OQ 392076   7.050   NaN        S         0  "
      ]
     },
     "execution_count": 5,
     "metadata": {},
     "output_type": "execute_result"
    }
   ],
   "source": [
    "y.head()"
   ]
  },
  {
   "cell_type": "code",
   "execution_count": 6,
   "metadata": {},
   "outputs": [
    {
     "name": "stdout",
     "output_type": "stream",
     "text": [
      "28.138157894736842\n",
      "30.857142857142858\n"
     ]
    }
   ],
   "source": [
    "x2 = data[data.Survived == 1]\n",
    "survive_age = x2.Age.mean()\n",
    "x2 = data[data.Survived == 0]\n",
    "not_survive_age = x2.Age.mean()\n",
    "print(survive_age)\n",
    "print(not_survive_age)"
   ]
  },
  {
   "cell_type": "code",
   "execution_count": 7,
   "metadata": {},
   "outputs": [],
   "source": [
    "r,c = y.shape"
   ]
  },
  {
   "cell_type": "code",
   "execution_count": 8,
   "metadata": {},
   "outputs": [
    {
     "name": "stdout",
     "output_type": "stream",
     "text": [
      "668\n",
      "11\n"
     ]
    }
   ],
   "source": [
    "print(r)\n",
    "print(c)"
   ]
  },
  {
   "cell_type": "code",
   "execution_count": 9,
   "metadata": {},
   "outputs": [
    {
     "name": "stdout",
     "output_type": "stream",
     "text": [
      "     Pclass                                               Name     Sex  Age  \\\n",
      "1         3                  Williams, Mr. Howard Hugh \"Harry\"    male  NaN   \n",
      "8         2                       Williams, Mr. Charles Eugene    male  NaN   \n",
      "11        3                                  Kassem, Mr. Fared    male  NaN   \n",
      "13        3                                  Lennon, Mr. Denis    male  NaN   \n",
      "14        3                         Healy, Miss. Hanora \"Nora\"  female  NaN   \n",
      "19        3                                Jermyn, Miss. Annie  female  NaN   \n",
      "21        3                      Boulos, Mrs. Joseph (Sultana)  female  NaN   \n",
      "24        3                            Masselmani, Mrs. Fatima  female  NaN   \n",
      "25        3                       Sage, Miss. Constance Gladys  female  NaN   \n",
      "39        3                                 Ivanoff, Mr. Kanio    male  NaN   \n",
      "47        3                   Petroff, Mr. Pastcho (\"Pentcho\")    male  NaN   \n",
      "54        3                              O'Connor, Mr. Maurice    male  NaN   \n",
      "55        3                   Mullens, Miss. Katherine \"Katie\"  female  NaN   \n",
      "57        3                                 Garfirth, Mr. John    male  NaN   \n",
      "59        1                  Kenyon, Mrs. Frederick R (Marion)  female  NaN   \n",
      "65        1                     Thorne, Mrs. Gertrude Maybelle  female  NaN   \n",
      "80        1       Goldenberg, Mrs. Samuel L (Edwiga Grabowska)  female  NaN   \n",
      "97        3                           O'Connell, Mr. Patrick D    male  NaN   \n",
      "99        3                                  Peter, Miss. Anna  female  NaN   \n",
      "101       1      Bradley, Mr. George (\"George Arthur Brayton\")    male  NaN   \n",
      "107       3                              Jardin, Mr. Jose Neto    male  NaN   \n",
      "127       3                           Rogers, Mr. William John    male  NaN   \n",
      "129       3             Peter, Mrs. Catherine (Catherine Rizk)  female  NaN   \n",
      "153       3                            Sage, Miss. Stella Anna  female  NaN   \n",
      "166       1                              Stewart, Mr. Albert A    male  NaN   \n",
      "167       3                            Emir, Mr. Farred Chehab    male  NaN   \n",
      "170       3                                Murdlin, Mr. Joseph    male  NaN   \n",
      "181       3                     Meanwell, Miss. (Marion Ogden)  female  NaN   \n",
      "182       3          Davison, Mrs. Thomas Henry (Mary E Finck)  female  NaN   \n",
      "188       1  Taylor, Mrs. Elmer Zebley (Juliet Cummins Wright)  female  NaN   \n",
      "..      ...                                                ...     ...  ...   \n",
      "516       1                              Rood, Mr. Hugh Roscoe    male  NaN   \n",
      "527       3                     Moussa, Mrs. (Mantoura Boulos)  female  NaN   \n",
      "532       1  Frauenthal, Mrs. Henry William (Clara Heinshei...  female  NaN   \n",
      "535       3                                 McCoy, Miss. Agnes  female  NaN   \n",
      "537       2                         Leitch, Miss. Jessie Wills  female  NaN   \n",
      "539       3                                Sirota, Mr. Maurice    male  NaN   \n",
      "540       3                   Caram, Mrs. Joseph (Maria Elias)  female  NaN   \n",
      "541       3                           Keane, Mr. Andrew \"Andy\"    male  NaN   \n",
      "543       1                                  Lewy, Mr. Ervin G    male  NaN   \n",
      "549       3                           Risien, Mr. Samuel Beard    male  NaN   \n",
      "551       3  Moubarek, Master. Halim Gonios (\"William George\")    male  NaN   \n",
      "552       3                                Kiernan, Mr. Philip    male  NaN   \n",
      "565       1                                 Klaber, Mr. Herman    male  NaN   \n",
      "568       3                                  Simmons, Mr. John    male  NaN   \n",
      "574       2                     Cunningham, Mr. Alfred Fleming    male  NaN   \n",
      "577       3                           Mannion, Miss. Margareth  female  NaN   \n",
      "595       1                                Robbins, Mr. Victor    male  NaN   \n",
      "604       3                                       Lam, Mr. Len    male  NaN   \n",
      "627       1                            Fleming, Miss. Margaret  female  NaN   \n",
      "630       3                                 Nankoff, Mr. Minko    male  NaN   \n",
      "632       3                             Gheorgheff, Mr. Stanio    male  NaN   \n",
      "636       1                              Saalfeld, Mr. Adolphe    male  NaN   \n",
      "640       3                                 Lefebre, Miss. Ida  female  NaN   \n",
      "644       1                                Baumann, Mr. John D    male  NaN   \n",
      "651       3                         Thorneycroft, Mr. Percival    male  NaN   \n",
      "654       3                                Todoroff, Mr. Lalio    male  NaN   \n",
      "659       3                               O'Brien, Mr. Timothy    male  NaN   \n",
      "661       1              Meyer, Mrs. Edgar Joseph (Leila Saks)  female  NaN   \n",
      "664       3                           Morrow, Mr. Thomas Rowan    male  NaN   \n",
      "667       3                     Murphy, Miss. Katherine \"Kate\"  female  NaN   \n",
      "\n",
      "     SibSp  Parch              Ticket      Fare  Cabin Embarked  Survived  \n",
      "1        0      0            A/5 2466    8.0500    NaN        S         0  \n",
      "8        0      0              244373   13.0000    NaN        S         1  \n",
      "11       0      0                2700    7.2292    NaN        C         0  \n",
      "13       1      0              370371   15.5000    NaN        Q         0  \n",
      "14       0      0              370375    7.7500    NaN        Q         1  \n",
      "19       0      0               14313    7.7500    NaN        Q         1  \n",
      "21       0      2                2678   15.2458    NaN        C         0  \n",
      "24       0      0                2649    7.2250    NaN        C         1  \n",
      "25       8      2            CA. 2343   69.5500    NaN        S         0  \n",
      "39       0      0              349201    7.8958    NaN        S         0  \n",
      "47       0      0              349215    7.8958    NaN        S         0  \n",
      "54       0      0              371060    7.7500    NaN        Q         0  \n",
      "55       0      0               35852    7.7333    NaN        Q         1  \n",
      "57       0      0              358585   14.5000    NaN        S         0  \n",
      "59       1      0               17464   51.8625    D21        S         1  \n",
      "65       0      0            PC 17585   79.2000    NaN        C         1  \n",
      "80       1      0               17453   89.1042    C92        C         1  \n",
      "97       0      0              334912    7.7333    NaN        Q         0  \n",
      "99       1      1                2668   22.3583  F E69        C         1  \n",
      "101      0      0              111427   26.5500    NaN        S         1  \n",
      "107      0      0  SOTON/O.Q. 3101305    7.0500    NaN        S         0  \n",
      "127      0      0     S.C./A.4. 23567    8.0500    NaN        S         0  \n",
      "129      0      2                2668   22.3583    NaN        C         1  \n",
      "153      8      2            CA. 2343   69.5500    NaN        S         0  \n",
      "166      0      0            PC 17605   27.7208    NaN        C         0  \n",
      "167      0      0                2631    7.2250    NaN        C         0  \n",
      "170      0      0          A./5. 3235    8.0500    NaN        S         0  \n",
      "181      0      0   SOTON/O.Q. 392087    8.0500    NaN        S         0  \n",
      "182      1      0              386525   16.1000    NaN        S         1  \n",
      "188      1      0               19996   52.0000   C126        S         1  \n",
      "..     ...    ...                 ...       ...    ...      ...       ...  \n",
      "516      0      0              113767   50.0000    A32        S         0  \n",
      "527      0      0                2626    7.2292    NaN        C         1  \n",
      "532      1      0            PC 17611  133.6500    NaN        S         1  \n",
      "535      2      0              367226   23.2500    NaN        Q         1  \n",
      "537      0      0              248727   33.0000    NaN        S         1  \n",
      "539      0      0              392092    8.0500    NaN        S         0  \n",
      "540      1      0                2689   14.4583    NaN        C         0  \n",
      "541      0      0               12460    7.7500    NaN        Q         0  \n",
      "543      0      0            PC 17612   27.7208    NaN        C         0  \n",
      "549      0      0              364498   14.5000    NaN        S         0  \n",
      "551      1      1                2661   15.2458    NaN        C         1  \n",
      "552      1      0              367229    7.7500    NaN        Q         0  \n",
      "565      0      0              113028   26.5500   C124        S         0  \n",
      "568      0      0     SOTON/OQ 392082    8.0500    NaN        S         0  \n",
      "574      0      0              239853    0.0000    NaN        S         0  \n",
      "577      0      0               36866    7.7375    NaN        Q         1  \n",
      "595      0      0            PC 17757  227.5250    NaN        C         0  \n",
      "604      0      0                1601   56.4958    NaN        S         0  \n",
      "627      0      0               17421  110.8833    NaN        C         1  \n",
      "630      0      0              349218    7.8958    NaN        S         0  \n",
      "632      0      0              349254    7.8958    NaN        C         0  \n",
      "636      0      0               19988   30.5000   C106        S         1  \n",
      "640      3      1                4133   25.4667    NaN        S         0  \n",
      "644      0      0            PC 17318   25.9250    NaN        S         0  \n",
      "651      1      0              376564   16.1000    NaN        S         0  \n",
      "654      0      0              349216    7.8958    NaN        S         0  \n",
      "659      0      0              330979    7.8292    NaN        Q         0  \n",
      "661      1      0            PC 17604   82.1708    NaN        C         1  \n",
      "664      0      0              372622    7.7500    NaN        Q         0  \n",
      "667      1      0              367230   15.5000    NaN        Q         1  \n",
      "\n",
      "[132 rows x 11 columns]\n"
     ]
    },
    {
     "data": {
      "text/plain": [
       "(132, 11)"
      ]
     },
     "execution_count": 9,
     "metadata": {},
     "output_type": "execute_result"
    }
   ],
   "source": [
    "z = y[y.Age.isnull()]\n",
    "print(z)\n",
    "z.shape"
   ]
  },
  {
   "cell_type": "code",
   "execution_count": 11,
   "metadata": {},
   "outputs": [
    {
     "name": "stdout",
     "output_type": "stream",
     "text": [
      "[  1   8  11  13  14  19  21  24  25  39  47  54  55  57  59  65  80  97\n",
      "  99 101 107 127 129 153 166 167 170 181 182 188 189 190 195 196 199 200\n",
      " 202 203 207 213 215 224 230 233 236 249 250 255 268 270 278 279 281 284\n",
      " 298 310 312 315 318 329 330 335 339 340 346 350 352 353 354 361 364 365\n",
      " 367 368 369 374 381 382 389 395 396 403 407 410 411 416 425 436 441 449\n",
      " 454 470 471 472 476 477 478 491 492 495 501 505 516 527 532 535 537 539\n",
      " 540 541 543 549 551 552 565 568 574 577 595 604 627 630 632 636 640 644\n",
      " 651 654 659 661 664 667]\n"
     ]
    }
   ],
   "source": [
    "k = z.index.values\n",
    "print(k)"
   ]
  },
  {
   "cell_type": "code",
   "execution_count": 12,
   "metadata": {},
   "outputs": [],
   "source": [
    "\n",
    "for i in range(r):\n",
    "    if i in k:\n",
    "        if(y.loc[i,'Survived']==1):\n",
    "            y.loc[i,\"Age\"]=survive_age\n",
    "        else:\n",
    "            y.loc[i,\"Age\"]=not_survive_age"
   ]
  },
  {
   "cell_type": "code",
   "execution_count": 13,
   "metadata": {},
   "outputs": [],
   "source": [
    "del y['Name']\n",
    "del y['Survived']\n",
    "del y['Fare']\n",
    "test.Age.fillna(test.Age.mean(),inplace = True)"
   ]
  },
  {
   "cell_type": "code",
   "execution_count": 14,
   "metadata": {},
   "outputs": [],
   "source": [
    "\n",
    "def f1(s):\n",
    "    if s == 'male':\n",
    "        return 0\n",
    "    else:\n",
    "        return 1\n",
    "def getNumberEmbarked(str):\n",
    "    if str=='C':\n",
    "        return 1\n",
    "    elif str=='Q':\n",
    "        return 2\n",
    "    else:\n",
    "        return 3\n",
    "y['Embarked'] = y['Embarked'].apply(getNumberEmbarked)   \n",
    "test['Embarked'] = test['Embarked'].apply(getNumberEmbarked)\n",
    "    \n",
    "y['Gender'] = y.Sex.apply(f1)\n"
   ]
  },
  {
   "cell_type": "code",
   "execution_count": 15,
   "metadata": {},
   "outputs": [],
   "source": [
    "del y['Sex']\n",
    "#del y['Embarked']\n",
    "#del test['Embarked']\n",
    "del y['Ticket']\n",
    "del y['Parch']"
   ]
  },
  {
   "cell_type": "code",
   "execution_count": 16,
   "metadata": {},
   "outputs": [],
   "source": [
    "y['Cabin'] = y.Cabin.notnull().astype(int)"
   ]
  },
  {
   "cell_type": "code",
   "execution_count": 17,
   "metadata": {},
   "outputs": [],
   "source": [
    "test['Gender'] = test.Sex.apply(f1)\n",
    "del test['Sex']"
   ]
  },
  {
   "cell_type": "code",
   "execution_count": 18,
   "metadata": {},
   "outputs": [
    {
     "data": {
      "text/plain": [
       "0      0\n",
       "1      1\n",
       "2      0\n",
       "3      0\n",
       "4      1\n",
       "5      0\n",
       "6      0\n",
       "7      0\n",
       "8      0\n",
       "9      0\n",
       "10     1\n",
       "11     0\n",
       "12     1\n",
       "13     0\n",
       "14     1\n",
       "15     0\n",
       "16     0\n",
       "17     0\n",
       "18     0\n",
       "19     0\n",
       "20     0\n",
       "21     0\n",
       "22     1\n",
       "23     0\n",
       "24     0\n",
       "25     1\n",
       "26     0\n",
       "27     0\n",
       "28     0\n",
       "29     0\n",
       "      ..\n",
       "193    0\n",
       "194    0\n",
       "195    0\n",
       "196    1\n",
       "197    0\n",
       "198    0\n",
       "199    1\n",
       "200    1\n",
       "201    1\n",
       "202    0\n",
       "203    1\n",
       "204    0\n",
       "205    0\n",
       "206    0\n",
       "207    0\n",
       "208    1\n",
       "209    0\n",
       "210    0\n",
       "211    0\n",
       "212    0\n",
       "213    1\n",
       "214    0\n",
       "215    1\n",
       "216    0\n",
       "217    0\n",
       "218    0\n",
       "219    1\n",
       "220    1\n",
       "221    0\n",
       "222    1\n",
       "Name: Cabin, Length: 223, dtype: int32"
      ]
     },
     "execution_count": 18,
     "metadata": {},
     "output_type": "execute_result"
    }
   ],
   "source": [
    "test.Cabin.notnull().astype(int)"
   ]
  },
  {
   "cell_type": "code",
   "execution_count": 19,
   "metadata": {},
   "outputs": [],
   "source": [
    "del test['Name']\n",
    "test['Cabin'] = test.Cabin.notnull().astype(int)\n",
    "del test[\"Fare\"]\n",
    "del test['Ticket']\n",
    "del test['Parch']"
   ]
  },
  {
   "cell_type": "code",
   "execution_count": 20,
   "metadata": {},
   "outputs": [],
   "source": [
    "\n",
    "from sklearn.linear_model import LogisticRegression"
   ]
  },
  {
   "cell_type": "code",
   "execution_count": 21,
   "metadata": {},
   "outputs": [],
   "source": [
    "clf = LogisticRegression()"
   ]
  },
  {
   "cell_type": "code",
   "execution_count": 22,
   "metadata": {},
   "outputs": [
    {
     "data": {
      "text/plain": [
       "LogisticRegression(C=1.0, class_weight=None, dual=False, fit_intercept=True,\n",
       "          intercept_scaling=1, max_iter=100, multi_class='ovr', n_jobs=1,\n",
       "          penalty='l2', random_state=None, solver='liblinear', tol=0.0001,\n",
       "          verbose=0, warm_start=False)"
      ]
     },
     "execution_count": 22,
     "metadata": {},
     "output_type": "execute_result"
    }
   ],
   "source": [
    "clf.fit(y,data.Survived)"
   ]
  },
  {
   "cell_type": "code",
   "execution_count": 23,
   "metadata": {},
   "outputs": [],
   "source": [
    "Y_pred = clf.predict(test)"
   ]
  },
  {
   "cell_type": "code",
   "execution_count": 24,
   "metadata": {},
   "outputs": [],
   "source": [
    "np.savetxt('2nd try prediictions with fmt.csv',Y_pred,fmt='%1.0f')"
   ]
  },
  {
   "cell_type": "code",
   "execution_count": 25,
   "metadata": {},
   "outputs": [],
   "source": [
    "from sklearn.ensemble import RandomForestClassifier"
   ]
  },
  {
   "cell_type": "code",
   "execution_count": 26,
   "metadata": {},
   "outputs": [],
   "source": [
    "clf1 = RandomForestClassifier(max_depth = 6, random_state=0)"
   ]
  },
  {
   "cell_type": "code",
   "execution_count": 27,
   "metadata": {},
   "outputs": [
    {
     "data": {
      "text/plain": [
       "RandomForestClassifier(bootstrap=True, class_weight=None, criterion='gini',\n",
       "            max_depth=6, max_features='auto', max_leaf_nodes=None,\n",
       "            min_impurity_decrease=0.0, min_impurity_split=None,\n",
       "            min_samples_leaf=1, min_samples_split=2,\n",
       "            min_weight_fraction_leaf=0.0, n_estimators=10, n_jobs=1,\n",
       "            oob_score=False, random_state=0, verbose=0, warm_start=False)"
      ]
     },
     "execution_count": 27,
     "metadata": {},
     "output_type": "execute_result"
    }
   ],
   "source": [
    "clf1.fit(y, data.Survived)"
   ]
  },
  {
   "cell_type": "code",
   "execution_count": 28,
   "metadata": {},
   "outputs": [],
   "source": [
    "Y_pred1 = clf.predict(test)\n",
    "np.savetxt('randomforestclassifierpred with fmt.csv',Y_pred1,fmt='%1.0f')"
   ]
  },
  {
   "cell_type": "code",
   "execution_count": null,
   "metadata": {},
   "outputs": [],
   "source": []
  }
 ],
 "metadata": {
  "kernelspec": {
   "display_name": "Python 3",
   "language": "python",
   "name": "python3"
  },
  "language_info": {
   "codemirror_mode": {
    "name": "ipython",
    "version": 3
   },
   "file_extension": ".py",
   "mimetype": "text/x-python",
   "name": "python",
   "nbconvert_exporter": "python",
   "pygments_lexer": "ipython3",
   "version": "3.6.5"
  }
 },
 "nbformat": 4,
 "nbformat_minor": 2
}
