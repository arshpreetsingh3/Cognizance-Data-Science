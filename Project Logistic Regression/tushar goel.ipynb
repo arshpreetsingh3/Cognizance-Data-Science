{
 "cells": [
  {
   "cell_type": "code",
   "execution_count": 4,
   "metadata": {},
   "outputs": [],
   "source": [
    "from sklearn import datasets\n",
    "from sklearn.linear_model import LogisticRegression\n",
    "import numpy as np\n",
    "import pandas as pd"
   ]
  },
  {
   "cell_type": "code",
   "execution_count": 64,
   "metadata": {},
   "outputs": [
    {
     "name": "stdout",
     "output_type": "stream",
     "text": [
      "['Pclass' 'Sex' 'Age' 'SibSp' 'Parch' 'Fare' 'Survived']\n",
      "     Pclass  Sex   Age  SibSp  Parch     Fare  Survived\n",
      "663       2    0  17.0      0      0  10.5000         1\n",
      "664       3    1   0.0      0      0   7.7500         0\n",
      "665       3    1  32.0      0      0  56.4958         1\n",
      "666       3    0  22.0      0      0   9.8375         0\n",
      "667       3    0   0.0      1      0  15.5000         1\n",
      "['Pclass' 'Sex' 'Age' 'SibSp' 'Parch' 'Fare']\n",
      "     Pclass  Sex   Age  SibSp  Parch     Fare\n",
      "218       3    1  20.0      1      0    7.925\n",
      "219       1    1  45.0      0      0   26.550\n",
      "220       1    0  17.0      1      0  108.900\n",
      "221       3    1  43.0      0      0    6.450\n",
      "222       2    1  36.5      0      2   26.000\n",
      "(223, 6)\n",
      "(223, 1)\n",
      "(668, 6)\n",
      "(668, 1)\n"
     ]
    }
   ],
   "source": [
    "train=pd.read_csv(\"titanic_x_y_train.csv\",delimiter=\",\")\n",
    "# test=pd.read_csv(\"titanic_x_test.csv\",delimiter=\",\")\n",
    "df3=train\n",
    "df=train\n",
    "df4=test\n",
    "# del df.Name\n",
    "df3 = df3.drop('Name', 1)\n",
    "df3 = df3.drop('Cabin', 1)\n",
    "df3 = df3.drop('Ticket', 1)\n",
    "df3 = df3.drop('Embarked', 1)\n",
    "m = {'m' : 1, 'f' : 0}\n",
    "df3['Sex'] = df3['Sex'].str[0].str.lower().map(m)\n",
    "m = {'C' : 2,'Q' : 1, 'S' : 0 }\n",
    "# df2['Embarked'] = df2['Embarked'].str[0].str.lower().map(m)\n",
    "df3[np.isnan(df3)] = 0\n",
    "print(df3.columns.values)\n",
    "print(df3.tail(5))\n",
    "\n",
    "# print(df2[df2.columns[9]])\n",
    "# print(X_test)\n",
    "df4 = df4.drop('Name', 1)\n",
    "df4 = df4.drop('Cabin', 1)\n",
    "df4 = df4.drop('Ticket', 1)\n",
    "df4 = df4.drop('Embarked', 1)\n",
    "m = {'m' : 1, 'f' : 0}\n",
    "df4['Sex'] = df4['Sex'].str[0].str.lower().map(m)\n",
    "m = {'C' : 2,'Q' : 1, 'S' : 0 }\n",
    "# df2['Embarked'] = df2['Embarked'].str[0].str.lower().map(m)\n",
    "df4[np.isnan(df4)] = 0\n",
    "print(df4.columns.values)\n",
    "print(df4.tail(5))\n",
    "\n",
    "X_test=df4.iloc[:,0:6]\n",
    "X_train=df3.iloc[:,0:6]\n",
    "Y_test=df4.iloc[:,5:]\n",
    "Y_train=df3.iloc[:,6:]\n",
    "print(X_test.shape)\n",
    "print(Y_test.shape)\n",
    "print(X_train.shape)\n",
    "print(Y_train.shape)"
   ]
  },
  {
   "cell_type": "code",
   "execution_count": 65,
   "metadata": {},
   "outputs": [
    {
     "name": "stderr",
     "output_type": "stream",
     "text": [
      "C:\\ProgramData\\Anaconda3\\lib\\site-packages\\sklearn\\utils\\validation.py:578: DataConversionWarning: A column-vector y was passed when a 1d array was expected. Please change the shape of y to (n_samples, ), for example using ravel().\n",
      "  y = column_or_1d(y, warn=True)\n"
     ]
    },
    {
     "data": {
      "text/plain": [
       "LogisticRegression(C=1.0, class_weight=None, dual=False, fit_intercept=True,\n",
       "          intercept_scaling=1, max_iter=100, multi_class='ovr', n_jobs=1,\n",
       "          penalty='l2', random_state=None, solver='liblinear', tol=0.0001,\n",
       "          verbose=0, warm_start=False)"
      ]
     },
     "execution_count": 65,
     "metadata": {},
     "output_type": "execute_result"
    }
   ],
   "source": [
    "clf = LogisticRegression()\n",
    "clf.fit(X_train,Y_train)"
   ]
  },
  {
   "cell_type": "code",
   "execution_count": 68,
   "metadata": {},
   "outputs": [
    {
     "name": "stdout",
     "output_type": "stream",
     "text": [
      "[0 1 0 1 0 0 0 0 1 0 1 0 1 1 0 0 0 0 0 1 1 0 1 1 0 1 0 0 1 1 0 0 0 0 0 1 1\n",
      " 0 0 0 1 0 0 0 1 1 0 1 0 0 0 1 1 1 0 0 0 0 0 0 0 0 1 1 1 0 0 1 1 0 0 0 1 0\n",
      " 0 1 1 0 0 0 0 1 0 0 0 1 0 0 0 0 1 0 0 1 0 0 0 0 0 1 1 0 1 0 1 1 0 0 0 0 0\n",
      " 1 1 0 1 0 0 1 0 0 0 0 0 0 1 0 0 0 0 1 0 0 0 0 0 0 1 1 1 0 0 0 0 0 0 0 0 0\n",
      " 1 1 1 0 0 0 1 0 0 1 0 0 0 1 1 1 1 0 1 0 1 1 1 1 1 0 1 0 0 0 0 1 0 0 0 1 1\n",
      " 0 1 0 1 0 0 0 1 0 0 1 1 1 1 1 0 0 0 0 0 0 0 0 1 0 0 1 0 0 1 1 0 0 0 0 1 0\n",
      " 0]\n"
     ]
    }
   ],
   "source": [
    "Y_pred=clf.predict(X_test)\n",
    "# Y2_pred=alg2.predict(X2_test)\n",
    "\n",
    "print(Y_pred)\n",
    "# y=np.round(Y_pred,5)\n",
    "# print(y.shape)\n",
    "# print(y)\n",
    "\n",
    "np.savetxt(\"Y_predt.csv\",Y_pred,delimiter=',')"
   ]
  }
 ],
 "metadata": {
  "kernelspec": {
   "display_name": "Python 3",
   "language": "python",
   "name": "python3"
  },
  "language_info": {
   "codemirror_mode": {
    "name": "ipython",
    "version": 3
   },
   "file_extension": ".py",
   "mimetype": "text/x-python",
   "name": "python",
   "nbconvert_exporter": "python",
   "pygments_lexer": "ipython3",
   "version": "3.6.5"
  }
 },
 "nbformat": 4,
 "nbformat_minor": 2
}
