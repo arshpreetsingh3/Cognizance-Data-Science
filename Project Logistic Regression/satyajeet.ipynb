{
 "cells": [
  {
   "cell_type": "code",
   "execution_count": 1,
   "metadata": {},
   "outputs": [],
   "source": [
    "import pandas as pd"
   ]
  },
  {
   "cell_type": "code",
   "execution_count": 2,
   "metadata": {},
   "outputs": [
    {
     "data": {
      "text/plain": [
       "(668, 9)"
      ]
     },
     "execution_count": 2,
     "metadata": {},
     "output_type": "execute_result"
    }
   ],
   "source": [
    "df = pd.read_csv('dataset/train_titanic.csv')\n",
    "del df['Name']\n",
    "del df['Ticket']\n",
    "df['Cabin']=df['Cabin'].fillna(0)\n",
    "def f1(str):\n",
    "    if(str=='female'):\n",
    "        return 1\n",
    "    else:\n",
    "        return 2\n",
    "df['Sex']=df.Sex.apply(f1)\n",
    "df['Age']=df['Age'].fillna(df.Age.mean())\n",
    "def f2(str):\n",
    "    if(str!=0):\n",
    "        return 1\n",
    "    else:\n",
    "        return 0    \n",
    "df['Cabin']=df.Cabin.apply(f2)\n",
    "\n",
    "def f3(str):\n",
    "    if(str=='S'):\n",
    "        return 1\n",
    "    elif(str=='Q'):\n",
    "        return 2\n",
    "    else:\n",
    "        return 3\n",
    "    \n",
    "df['Embarked']=df.Embarked.apply(f3)\n",
    "train=df.values\n",
    "train_x=train[:,0:len(train[0])-1]\n",
    "train_y=train[:,len(train[0])-1:len(train[0])]\n",
    "\n",
    "train_x.shape\n",
    "train.shape"
   ]
  },
  {
   "cell_type": "code",
   "execution_count": 38,
   "metadata": {},
   "outputs": [
    {
     "data": {
      "text/html": [
       "<div>\n",
       "<style scoped>\n",
       "    .dataframe tbody tr th:only-of-type {\n",
       "        vertical-align: middle;\n",
       "    }\n",
       "\n",
       "    .dataframe tbody tr th {\n",
       "        vertical-align: top;\n",
       "    }\n",
       "\n",
       "    .dataframe thead th {\n",
       "        text-align: right;\n",
       "    }\n",
       "</style>\n",
       "<table border=\"1\" class=\"dataframe\">\n",
       "  <thead>\n",
       "    <tr style=\"text-align: right;\">\n",
       "      <th></th>\n",
       "      <th>Pclass</th>\n",
       "      <th>Sex</th>\n",
       "      <th>Age</th>\n",
       "      <th>SibSp</th>\n",
       "      <th>Parch</th>\n",
       "      <th>Fare</th>\n",
       "      <th>Cabin</th>\n",
       "      <th>Embarked</th>\n",
       "    </tr>\n",
       "  </thead>\n",
       "  <tbody>\n",
       "    <tr>\n",
       "      <th>count</th>\n",
       "      <td>223.000000</td>\n",
       "      <td>223.000000</td>\n",
       "      <td>223.000000</td>\n",
       "      <td>223.000000</td>\n",
       "      <td>223.000000</td>\n",
       "      <td>223.000000</td>\n",
       "      <td>223.000000</td>\n",
       "      <td>223.000000</td>\n",
       "    </tr>\n",
       "    <tr>\n",
       "      <th>mean</th>\n",
       "      <td>2.345291</td>\n",
       "      <td>1.672646</td>\n",
       "      <td>29.694775</td>\n",
       "      <td>0.506726</td>\n",
       "      <td>0.304933</td>\n",
       "      <td>32.622551</td>\n",
       "      <td>0.224215</td>\n",
       "      <td>1.443946</td>\n",
       "    </tr>\n",
       "    <tr>\n",
       "      <th>std</th>\n",
       "      <td>0.850047</td>\n",
       "      <td>0.470303</td>\n",
       "      <td>13.749153</td>\n",
       "      <td>1.169700</td>\n",
       "      <td>0.634108</td>\n",
       "      <td>61.062047</td>\n",
       "      <td>0.418003</td>\n",
       "      <td>0.756501</td>\n",
       "    </tr>\n",
       "    <tr>\n",
       "      <th>min</th>\n",
       "      <td>1.000000</td>\n",
       "      <td>1.000000</td>\n",
       "      <td>0.420000</td>\n",
       "      <td>0.000000</td>\n",
       "      <td>0.000000</td>\n",
       "      <td>0.000000</td>\n",
       "      <td>0.000000</td>\n",
       "      <td>1.000000</td>\n",
       "    </tr>\n",
       "    <tr>\n",
       "      <th>25%</th>\n",
       "      <td>2.000000</td>\n",
       "      <td>1.000000</td>\n",
       "      <td>22.000000</td>\n",
       "      <td>0.000000</td>\n",
       "      <td>0.000000</td>\n",
       "      <td>7.879200</td>\n",
       "      <td>0.000000</td>\n",
       "      <td>1.000000</td>\n",
       "    </tr>\n",
       "    <tr>\n",
       "      <th>50%</th>\n",
       "      <td>3.000000</td>\n",
       "      <td>2.000000</td>\n",
       "      <td>29.694775</td>\n",
       "      <td>0.000000</td>\n",
       "      <td>0.000000</td>\n",
       "      <td>12.475000</td>\n",
       "      <td>0.000000</td>\n",
       "      <td>1.000000</td>\n",
       "    </tr>\n",
       "    <tr>\n",
       "      <th>75%</th>\n",
       "      <td>3.000000</td>\n",
       "      <td>2.000000</td>\n",
       "      <td>35.000000</td>\n",
       "      <td>1.000000</td>\n",
       "      <td>0.000000</td>\n",
       "      <td>30.035400</td>\n",
       "      <td>0.000000</td>\n",
       "      <td>2.000000</td>\n",
       "    </tr>\n",
       "    <tr>\n",
       "      <th>max</th>\n",
       "      <td>3.000000</td>\n",
       "      <td>2.000000</td>\n",
       "      <td>71.000000</td>\n",
       "      <td>8.000000</td>\n",
       "      <td>2.000000</td>\n",
       "      <td>512.329200</td>\n",
       "      <td>1.000000</td>\n",
       "      <td>3.000000</td>\n",
       "    </tr>\n",
       "  </tbody>\n",
       "</table>\n",
       "</div>"
      ],
      "text/plain": [
       "           Pclass         Sex         Age       SibSp       Parch        Fare  \\\n",
       "count  223.000000  223.000000  223.000000  223.000000  223.000000  223.000000   \n",
       "mean     2.345291    1.672646   29.694775    0.506726    0.304933   32.622551   \n",
       "std      0.850047    0.470303   13.749153    1.169700    0.634108   61.062047   \n",
       "min      1.000000    1.000000    0.420000    0.000000    0.000000    0.000000   \n",
       "25%      2.000000    1.000000   22.000000    0.000000    0.000000    7.879200   \n",
       "50%      3.000000    2.000000   29.694775    0.000000    0.000000   12.475000   \n",
       "75%      3.000000    2.000000   35.000000    1.000000    0.000000   30.035400   \n",
       "max      3.000000    2.000000   71.000000    8.000000    2.000000  512.329200   \n",
       "\n",
       "            Cabin    Embarked  \n",
       "count  223.000000  223.000000  \n",
       "mean     0.224215    1.443946  \n",
       "std      0.418003    0.756501  \n",
       "min      0.000000    1.000000  \n",
       "25%      0.000000    1.000000  \n",
       "50%      0.000000    1.000000  \n",
       "75%      0.000000    2.000000  \n",
       "max      1.000000    3.000000  "
      ]
     },
     "execution_count": 38,
     "metadata": {},
     "output_type": "execute_result"
    }
   ],
   "source": [
    "df = pd.read_csv('dataset/test_titanic.csv')\n",
    "del df['Name']\n",
    "del df['Ticket']\n",
    "df['Cabin']=df['Cabin'].fillna(0)\n",
    "def f1(str):\n",
    "    if(str=='female'):\n",
    "        return 1\n",
    "    else:\n",
    "        return 2\n",
    "df['Sex']=df.Sex.apply(f1)\n",
    "df['Age']=df['Age'].fillna(df.Age.mean())\n",
    "def f2(str):\n",
    "    if(str!=0):\n",
    "        return 1\n",
    "    else:\n",
    "        return 0    \n",
    "df['Cabin']=df.Cabin.apply(f2)\n",
    "\n",
    "def f3(str):\n",
    "    if(str=='S'):\n",
    "        return 1\n",
    "    elif(str=='Q'):\n",
    "        return 2\n",
    "    else:\n",
    "        return 3\n",
    "    \n",
    "df['Embarked']=df.Embarked.apply(f3)\n",
    "test_x=df.values\n",
    "df.describe()"
   ]
  },
  {
   "cell_type": "code",
   "execution_count": 38,
   "metadata": {},
   "outputs": [],
   "source": [
    "    import numpy as np\n",
    "    ap=np.array([1 for i in range(len(test_x))])\n",
    "    ap=ap.reshape(len(test_x),1)\n",
    "    test_x= np.append(test_x,ap,axis=1)\n",
    "    \n",
    "    ap=np.array([1 for i in range(len(train_x))])\n",
    "    ap=ap.reshape(len(train_x),1)\n",
    "    train_x= np.append(train_x,ap,axis=1)"
   ]
  },
  {
   "cell_type": "code",
   "execution_count": 7,
   "metadata": {},
   "outputs": [
    {
     "data": {
      "text/plain": [
       "array([ 3.        ,  2.        , 29.69477528,  0.        ,  0.        ,\n",
       "        7.7375    ,  0.        ,  2.        ])"
      ]
     },
     "execution_count": 7,
     "metadata": {},
     "output_type": "execute_result"
    }
   ],
   "source": [
    "test_x[2]\n"
   ]
  },
  {
   "cell_type": "code",
   "execution_count": 30,
   "metadata": {},
   "outputs": [
    {
     "data": {
      "text/plain": [
       "LogisticRegression(C=1.0, class_weight=None, dual=False, fit_intercept=True,\n",
       "          intercept_scaling=1, max_iter=100, multi_class='ovr', n_jobs=1,\n",
       "          penalty='l2', random_state=None, solver='liblinear', tol=0.0001,\n",
       "          verbose=0, warm_start=False)"
      ]
     },
     "execution_count": 30,
     "metadata": {},
     "output_type": "execute_result"
    }
   ],
   "source": [
    "from sklearn.linear_model import LogisticRegression\n",
    "clf=LogisticRegression()\n",
    "clf.fit(train_x,train_y.reshape(len(train_y,)))"
   ]
  },
  {
   "cell_type": "code",
   "execution_count": 32,
   "metadata": {},
   "outputs": [
    {
     "data": {
      "text/plain": [
       "0.7934131736526946"
      ]
     },
     "execution_count": 32,
     "metadata": {},
     "output_type": "execute_result"
    }
   ],
   "source": [
    "clf.score(train_x,train_y.reshape(len(train_y),))"
   ]
  },
  {
   "cell_type": "code",
   "execution_count": 36,
   "metadata": {},
   "outputs": [],
   "source": [
    "import numpy as np\n",
    "result=clf.predict(test_x)\n",
    "result.shape\n",
    "np.savetxt(\"dataset/prediction_titanic.csv\", result, delimiter=\",\")   "
   ]
  }
 ],
 "metadata": {
  "kernelspec": {
   "display_name": "Python 3",
   "language": "python",
   "name": "python3"
  },
  "language_info": {
   "codemirror_mode": {
    "name": "ipython",
    "version": 3
   },
   "file_extension": ".py",
   "mimetype": "text/x-python",
   "name": "python",
   "nbconvert_exporter": "python",
   "pygments_lexer": "ipython3",
   "version": "3.6.5"
  }
 },
 "nbformat": 4,
 "nbformat_minor": 2
}
