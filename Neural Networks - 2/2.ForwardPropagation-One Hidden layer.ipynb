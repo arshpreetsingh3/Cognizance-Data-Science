{
 "cells": [
  {
   "cell_type": "code",
   "execution_count": 1,
   "metadata": {},
   "outputs": [],
   "source": [
    "import numpy as np"
   ]
  },
  {
   "cell_type": "code",
   "execution_count": 2,
   "metadata": {},
   "outputs": [
    {
     "data": {
      "text/plain": [
       "((4, 2), (4, 1))"
      ]
     },
     "execution_count": 2,
     "metadata": {},
     "output_type": "execute_result"
    }
   ],
   "source": [
    "X = np.array([[0,0], [0,1], [1,0], [1,1]])\n",
    "Y = np.array([[0,0,0,1]]).T\n",
    "X.shape, Y.shape"
   ]
  },
  {
   "cell_type": "code",
   "execution_count": 3,
   "metadata": {},
   "outputs": [],
   "source": [
    "def sig(z):\n",
    "    return 1/(1 + np.exp(-z))"
   ]
  },
  {
   "cell_type": "code",
   "execution_count": 4,
   "metadata": {},
   "outputs": [
    {
     "data": {
      "text/plain": [
       "(array([[ 0.80323912],\n",
       "        [-0.51141776]]), array([0.64833656]))"
      ]
     },
     "execution_count": 4,
     "metadata": {},
     "output_type": "execute_result"
    }
   ],
   "source": [
    "# no hidden layer weights\n",
    "weights = 2* np.random.random((2, 1)) - 1\n",
    "bias = 2 * np.random.random(1) - 1\n",
    "weights, bias"
   ]
  },
  {
   "cell_type": "code",
   "execution_count": 5,
   "metadata": {},
   "outputs": [
    {
     "data": {
      "text/plain": [
       "array([[0.65663551],\n",
       "       [0.53417632],\n",
       "       [0.81024081],\n",
       "       [0.71913155]])"
      ]
     },
     "execution_count": 5,
     "metadata": {},
     "output_type": "execute_result"
    }
   ],
   "source": [
    "# forward propagation without any hidden layer\n",
    "output0 = X\n",
    "output = sig(np.dot(output0, weights) + bias)\n",
    "output"
   ]
  },
  {
   "cell_type": "code",
   "execution_count": 6,
   "metadata": {},
   "outputs": [],
   "source": [
    "# one hidden layer weights\n",
    "wh = 2* np.random.random((2, 2)) - 1\n",
    "bh = 2* np.random.random((1, 2)) - 1\n",
    "wo = 2 * np.random.random((2, 1)) - 1\n",
    "bo = 2 * np.random.random((1,1)) - 1\n",
    "                        "
   ]
  },
  {
   "cell_type": "code",
   "execution_count": 9,
   "metadata": {},
   "outputs": [],
   "source": [
    "#here farguments  for the the above random functions are of the following formats\n",
    "#random(no of units in input layer,no of units in hidden layer)\n",
    "#multplying by 2 and then subtracting 1 gets the range to be from -1 to 1\n",
    "#in bh 1 bias goes to 2 units of hidden layer thus  (1,2) in that case"
   ]
  },
  {
   "cell_type": "code",
   "execution_count": 8,
   "metadata": {},
   "outputs": [
    {
     "data": {
      "text/plain": [
       "array([[0.58694226],\n",
       "       [0.5800451 ],\n",
       "       [0.56539251],\n",
       "       [0.56369032]])"
      ]
     },
     "execution_count": 8,
     "metadata": {},
     "output_type": "execute_result"
    }
   ],
   "source": [
    "# forward propagation with one hidden layer\n",
    "output0 = X\n",
    "outputHidden = sig(np.dot(output0, wh) + bh)\n",
    "output = sig(np.dot(outputHidden, wo) + bo)\n",
    "output"
   ]
  }
 ],
 "metadata": {
  "kernelspec": {
   "display_name": "Python 3",
   "language": "python",
   "name": "python3"
  },
  "language_info": {
   "codemirror_mode": {
    "name": "ipython",
    "version": 3
   },
   "file_extension": ".py",
   "mimetype": "text/x-python",
   "name": "python",
   "nbconvert_exporter": "python",
   "pygments_lexer": "ipython3",
   "version": "3.6.5"
  }
 },
 "nbformat": 4,
 "nbformat_minor": 2
}
